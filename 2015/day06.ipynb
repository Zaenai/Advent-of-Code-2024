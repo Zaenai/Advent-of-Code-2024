{
 "cells": [
  {
   "cell_type": "code",
   "execution_count": 1,
   "id": "0830888c-89dd-49ba-96be-36aeb6f176f6",
   "metadata": {},
   "outputs": [],
   "source": [
    "import numpy as np\n",
    "import re\n",
    "import matplotlib.pyplot as plt"
   ]
  },
  {
   "cell_type": "code",
   "execution_count": 2,
   "id": "a074e947-aa11-41f0-a28b-0a2b83aa31d8",
   "metadata": {},
   "outputs": [],
   "source": [
    "with open(\"inputs/input06.txt\") as file: raw_data = file.read()\n",
    "data = [[re.findall(r\"[\\D]+\", rd)[0][:-1], list(map(int,re.findall(r\"[0-9]+\", rd)))] for rd in raw_data.split(\"\\n\")] # regex stuff?"
   ]
  },
  {
   "cell_type": "markdown",
   "id": "2a19b686-00f1-4cfc-a665-964cf3c57167",
   "metadata": {},
   "source": [
    "## Part 1"
   ]
  },
  {
   "cell_type": "code",
   "execution_count": 13,
   "id": "41e41bc3-a3d0-4523-b140-9556d4004983",
   "metadata": {},
   "outputs": [
    {
     "data": {
      "text/plain": [
       "543903"
      ]
     },
     "execution_count": 13,
     "metadata": {},
     "output_type": "execute_result"
    }
   ],
   "source": [
    "grid = np.zeros((1000,1000), dtype=int)\n",
    "for d in data:\n",
    "    inst, coords = d\n",
    "    x1,y1,x2,y2 = coords\n",
    "    if inst == \"toggle\":\n",
    "        grid[x1:x2+1, y1:y2+1] ^= 1\n",
    "    if inst == \"turn on\":\n",
    "        grid[x1:x2+1, y1:y2+1] = 1\n",
    "    if inst == \"turn off\":\n",
    "        grid[x1:x2+1, y1:y2+1] = 0\n",
    "        \n",
    "np.sum(grid)"
   ]
  },
  {
   "cell_type": "markdown",
   "id": "bf84dff2-dcbb-4ad6-8a7f-44e91f2b6928",
   "metadata": {},
   "source": [
    "## Part 2"
   ]
  },
  {
   "cell_type": "code",
   "execution_count": 17,
   "id": "1d70562f-e589-48b0-ba52-14ee739965bb",
   "metadata": {},
   "outputs": [
    {
     "data": {
      "text/plain": [
       "14687245"
      ]
     },
     "execution_count": 17,
     "metadata": {},
     "output_type": "execute_result"
    }
   ],
   "source": [
    "grid = np.zeros((1000,1000), dtype=int)\n",
    "for d in data:\n",
    "    inst, coords = d\n",
    "    x1,y1,x2,y2 = coords\n",
    "    if inst == \"toggle\":\n",
    "        grid[x1:x2+1, y1:y2+1] += 2\n",
    "    if inst == \"turn on\":\n",
    "        grid[x1:x2+1, y1:y2+1] += 1\n",
    "    if inst == \"turn off\":\n",
    "        grid[x1:x2+1, y1:y2+1] -= 1\n",
    "        np.clip(grid, 0, None, out=grid)\n",
    "        \n",
    "np.sum(grid)"
   ]
  },
  {
   "cell_type": "code",
   "execution_count": null,
   "id": "a92c03bb-55fa-4b05-91f4-906ca89d959b",
   "metadata": {},
   "outputs": [],
   "source": []
  }
 ],
 "metadata": {
  "kernelspec": {
   "display_name": "Python 3 (ipykernel)",
   "language": "python",
   "name": "python3"
  },
  "language_info": {
   "codemirror_mode": {
    "name": "ipython",
    "version": 3
   },
   "file_extension": ".py",
   "mimetype": "text/x-python",
   "name": "python",
   "nbconvert_exporter": "python",
   "pygments_lexer": "ipython3",
   "version": "3.10.14"
  }
 },
 "nbformat": 4,
 "nbformat_minor": 5
}
