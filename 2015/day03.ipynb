{
 "cells": [
  {
   "cell_type": "code",
   "execution_count": 1,
   "id": "0830888c-89dd-49ba-96be-36aeb6f176f6",
   "metadata": {},
   "outputs": [],
   "source": [
    "import numpy as np\n",
    "from collections import defaultdict"
   ]
  },
  {
   "cell_type": "code",
   "execution_count": 2,
   "id": "a074e947-aa11-41f0-a28b-0a2b83aa31d8",
   "metadata": {},
   "outputs": [],
   "source": [
    "with open(\"inputs/input03.txt\") as file: raw_data = file.read()"
   ]
  },
  {
   "cell_type": "markdown",
   "id": "2a19b686-00f1-4cfc-a665-964cf3c57167",
   "metadata": {},
   "source": [
    "## Part 1"
   ]
  },
  {
   "cell_type": "code",
   "execution_count": 4,
   "id": "41e41bc3-a3d0-4523-b140-9556d4004983",
   "metadata": {},
   "outputs": [],
   "source": [
    "houses = defaultdict(int)\n",
    "pos = 0+0j\n",
    "dirs = {\"v\":1j ,\n",
    "        \"^\":-1j,\n",
    "        \"<\":-1 ,\n",
    "        \">\":1   }\n",
    "\n",
    "for inst in raw_data:\n",
    "    houses[pos] += 1\n",
    "    pos += dirs[inst]"
   ]
  },
  {
   "cell_type": "code",
   "execution_count": 5,
   "id": "8e59daa0-51ef-4c51-8630-07c96240ae72",
   "metadata": {},
   "outputs": [
    {
     "data": {
      "text/plain": [
       "2572"
      ]
     },
     "execution_count": 5,
     "metadata": {},
     "output_type": "execute_result"
    }
   ],
   "source": [
    "len(houses)"
   ]
  },
  {
   "cell_type": "markdown",
   "id": "bf84dff2-dcbb-4ad6-8a7f-44e91f2b6928",
   "metadata": {},
   "source": [
    "## Part 2"
   ]
  },
  {
   "cell_type": "code",
   "execution_count": 7,
   "id": "1d70562f-e589-48b0-ba52-14ee739965bb",
   "metadata": {},
   "outputs": [],
   "source": [
    "houses = defaultdict(int)\n",
    "pos1, pos2 = 0+0j, 0+0j\n",
    "dirs = {\"v\":1j ,\n",
    "        \"^\":-1j,\n",
    "        \"<\":-1 ,\n",
    "        \">\":1   }\n",
    "\n",
    "for idx in range(0, len(raw_data)-1, 2):\n",
    "    houses[pos1] += 1\n",
    "    houses[pos2] += 1\n",
    "    \n",
    "    pos1 += dirs[raw_data[idx]]\n",
    "    pos2 += dirs[raw_data[idx+1]]"
   ]
  },
  {
   "cell_type": "code",
   "execution_count": 8,
   "id": "d973cb0c-369b-4e54-8044-eb4882b34ff8",
   "metadata": {},
   "outputs": [
    {
     "data": {
      "text/plain": [
       "2631"
      ]
     },
     "execution_count": 8,
     "metadata": {},
     "output_type": "execute_result"
    }
   ],
   "source": [
    "len(houses)"
   ]
  },
  {
   "cell_type": "code",
   "execution_count": null,
   "id": "a97cd97d-a066-432a-b8fa-f3d21b989a7f",
   "metadata": {},
   "outputs": [],
   "source": []
  }
 ],
 "metadata": {
  "kernelspec": {
   "display_name": "Python 3 (ipykernel)",
   "language": "python",
   "name": "python3"
  },
  "language_info": {
   "codemirror_mode": {
    "name": "ipython",
    "version": 3
   },
   "file_extension": ".py",
   "mimetype": "text/x-python",
   "name": "python",
   "nbconvert_exporter": "python",
   "pygments_lexer": "ipython3",
   "version": "3.10.14"
  }
 },
 "nbformat": 4,
 "nbformat_minor": 5
}
