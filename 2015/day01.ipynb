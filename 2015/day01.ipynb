{
 "cells": [
  {
   "cell_type": "code",
   "execution_count": 12,
   "id": "0830888c-89dd-49ba-96be-36aeb6f176f6",
   "metadata": {},
   "outputs": [],
   "source": [
    "import numpy as np\n",
    "import re"
   ]
  },
  {
   "cell_type": "code",
   "execution_count": 14,
   "id": "a074e947-aa11-41f0-a28b-0a2b83aa31d8",
   "metadata": {},
   "outputs": [],
   "source": [
    "with open(\"inputs/input01.txt\") as file: raw_data = file.read()"
   ]
  },
  {
   "cell_type": "markdown",
   "id": "2a19b686-00f1-4cfc-a665-964cf3c57167",
   "metadata": {},
   "source": [
    "## Part 1"
   ]
  },
  {
   "cell_type": "code",
   "execution_count": 82,
   "id": "41e41bc3-a3d0-4523-b140-9556d4004983",
   "metadata": {},
   "outputs": [],
   "source": [
    "data = raw_data\n",
    "pat, repl = r\"(\\(\\)|\\)\\()*\", \"\"\n",
    "prev = float('inf')\n",
    "while n > 0:\n",
    "    data, n = re.subn(pat, repl, data)\n",
    "    if n < prev:\n",
    "        prev = n\n",
    "    else:\n",
    "        break"
   ]
  },
  {
   "cell_type": "code",
   "execution_count": 88,
   "id": "8e59daa0-51ef-4c51-8630-07c96240ae72",
   "metadata": {},
   "outputs": [
    {
     "data": {
      "text/plain": [
       "138"
      ]
     },
     "execution_count": 88,
     "metadata": {},
     "output_type": "execute_result"
    }
   ],
   "source": [
    "len(data)"
   ]
  },
  {
   "cell_type": "markdown",
   "id": "bf84dff2-dcbb-4ad6-8a7f-44e91f2b6928",
   "metadata": {},
   "source": [
    "## Part 2"
   ]
  },
  {
   "cell_type": "code",
   "execution_count": 104,
   "id": "1d70562f-e589-48b0-ba52-14ee739965bb",
   "metadata": {},
   "outputs": [
    {
     "name": "stdout",
     "output_type": "stream",
     "text": [
      "1771\n"
     ]
    }
   ],
   "source": [
    "lvl = 0\n",
    "dirs = {\"(\":1,\n",
    "        \")\":-1}\n",
    "for idx,dir in enumerate(raw_data):\n",
    "    lvl += dirs[dir]\n",
    "    if lvl < 0:\n",
    "        print(idx+1)\n",
    "        break"
   ]
  },
  {
   "cell_type": "code",
   "execution_count": null,
   "id": "d973cb0c-369b-4e54-8044-eb4882b34ff8",
   "metadata": {},
   "outputs": [],
   "source": []
  }
 ],
 "metadata": {
  "kernelspec": {
   "display_name": "Python 3 (ipykernel)",
   "language": "python",
   "name": "python3"
  },
  "language_info": {
   "codemirror_mode": {
    "name": "ipython",
    "version": 3
   },
   "file_extension": ".py",
   "mimetype": "text/x-python",
   "name": "python",
   "nbconvert_exporter": "python",
   "pygments_lexer": "ipython3",
   "version": "3.10.14"
  }
 },
 "nbformat": 4,
 "nbformat_minor": 5
}
