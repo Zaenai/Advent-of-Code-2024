{
 "cells": [
  {
   "cell_type": "code",
   "execution_count": 1,
   "id": "0830888c-89dd-49ba-96be-36aeb6f176f6",
   "metadata": {},
   "outputs": [],
   "source": [
    "import numpy as np\n",
    "import re"
   ]
  },
  {
   "cell_type": "code",
   "execution_count": 2,
   "id": "a074e947-aa11-41f0-a28b-0a2b83aa31d8",
   "metadata": {},
   "outputs": [],
   "source": [
    "with open(\"inputs/input05.txt\") as file: raw_data = file.read()\n",
    "data = raw_data.split(\"\\n\")"
   ]
  },
  {
   "cell_type": "markdown",
   "id": "2a19b686-00f1-4cfc-a665-964cf3c57167",
   "metadata": {},
   "source": [
    "## Part 1"
   ]
  },
  {
   "cell_type": "code",
   "execution_count": 4,
   "id": "41e41bc3-a3d0-4523-b140-9556d4004983",
   "metadata": {},
   "outputs": [
    {
     "data": {
      "text/plain": [
       "236"
      ]
     },
     "execution_count": 4,
     "metadata": {},
     "output_type": "execute_result"
    }
   ],
   "source": [
    "naughty = set()\n",
    "for d in data:\n",
    "    numVowels = len([dupes for dupes in d if dupes in \"aeiou\"])\n",
    "    \n",
    "    hasDupe = re.search(r\"(.)\\1\", d)\n",
    "    if re.search(\"(ab|cd|pq|xy)\", d):\n",
    "        naughty.add(d)\n",
    "\n",
    "    elif numVowels < 3:\n",
    "        naughty.add(d)\n",
    "    \n",
    "    elif not hasDupe:\n",
    "        naughty.add(d)\n",
    "\n",
    "len(set(data) - naughty)"
   ]
  },
  {
   "cell_type": "markdown",
   "id": "bf84dff2-dcbb-4ad6-8a7f-44e91f2b6928",
   "metadata": {},
   "source": [
    "## Part 2"
   ]
  },
  {
   "cell_type": "code",
   "execution_count": 6,
   "id": "1d70562f-e589-48b0-ba52-14ee739965bb",
   "metadata": {},
   "outputs": [
    {
     "data": {
      "text/plain": [
       "51"
      ]
     },
     "execution_count": 6,
     "metadata": {},
     "output_type": "execute_result"
    }
   ],
   "source": [
    "naughty = set()\n",
    "for d in data:\n",
    "    if not re.search(r\"([a-z]{2}).*\\1\", d):\n",
    "        naughty.add(d)\n",
    "    elif not re.search(r\"([a-z])[^\\1]\\1\", d):\n",
    "        naughty.add(d)\n",
    "\n",
    "len(set(data) - naughty)"
   ]
  },
  {
   "cell_type": "code",
   "execution_count": null,
   "id": "d973cb0c-369b-4e54-8044-eb4882b34ff8",
   "metadata": {},
   "outputs": [],
   "source": []
  }
 ],
 "metadata": {
  "kernelspec": {
   "display_name": "Python 3 (ipykernel)",
   "language": "python",
   "name": "python3"
  },
  "language_info": {
   "codemirror_mode": {
    "name": "ipython",
    "version": 3
   },
   "file_extension": ".py",
   "mimetype": "text/x-python",
   "name": "python",
   "nbconvert_exporter": "python",
   "pygments_lexer": "ipython3",
   "version": "3.10.14"
  }
 },
 "nbformat": 4,
 "nbformat_minor": 5
}
