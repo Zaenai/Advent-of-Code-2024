{
 "cells": [
  {
   "cell_type": "code",
   "execution_count": 4,
   "id": "0830888c-89dd-49ba-96be-36aeb6f176f6",
   "metadata": {},
   "outputs": [],
   "source": [
    "import numpy as np"
   ]
  },
  {
   "cell_type": "code",
   "execution_count": 191,
   "id": "a074e947-aa11-41f0-a28b-0a2b83aa31d8",
   "metadata": {},
   "outputs": [],
   "source": [
    "with open(\"inputs/input02.txt\") as file: raw_data = file.read()\n",
    "data = [list(map(int,rd.split(\"x\"))) for rd in raw_data.split(\"\\n\")]"
   ]
  },
  {
   "cell_type": "markdown",
   "id": "2a19b686-00f1-4cfc-a665-964cf3c57167",
   "metadata": {},
   "source": [
    "## Part 1 & 2"
   ]
  },
  {
   "cell_type": "code",
   "execution_count": 208,
   "id": "41e41bc3-a3d0-4523-b140-9556d4004983",
   "metadata": {},
   "outputs": [],
   "source": [
    "p1, p2 = 0, 0\n",
    "for line in data:\n",
    "    a,b,c = line\n",
    "    A = a*b*2\n",
    "    B = b*c*2\n",
    "    C = c*a*2\n",
    "    perimeter = np.array(sorted([a,b,c]))\n",
    "    \n",
    "    ribbon = sum(perimeter[:2]*2)\n",
    "    ribbon += a*b*c\n",
    "    paper = A+B+C+sorted([A,B,C])[0]//2\n",
    "    \n",
    "    p1 += paper\n",
    "    p2 += ribbon"
   ]
  },
  {
   "cell_type": "code",
   "execution_count": 210,
   "id": "8e59daa0-51ef-4c51-8630-07c96240ae72",
   "metadata": {},
   "outputs": [
    {
     "data": {
      "text/plain": [
       "(1606483, 3842356)"
      ]
     },
     "execution_count": 210,
     "metadata": {},
     "output_type": "execute_result"
    }
   ],
   "source": [
    "p1, p2"
   ]
  },
  {
   "cell_type": "code",
   "execution_count": null,
   "id": "d973cb0c-369b-4e54-8044-eb4882b34ff8",
   "metadata": {},
   "outputs": [],
   "source": []
  }
 ],
 "metadata": {
  "kernelspec": {
   "display_name": "Python 3 (ipykernel)",
   "language": "python",
   "name": "python3"
  },
  "language_info": {
   "codemirror_mode": {
    "name": "ipython",
    "version": 3
   },
   "file_extension": ".py",
   "mimetype": "text/x-python",
   "name": "python",
   "nbconvert_exporter": "python",
   "pygments_lexer": "ipython3",
   "version": "3.10.14"
  }
 },
 "nbformat": 4,
 "nbformat_minor": 5
}
