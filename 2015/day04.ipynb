{
 "cells": [
  {
   "cell_type": "code",
   "execution_count": 59,
   "id": "0830888c-89dd-49ba-96be-36aeb6f176f6",
   "metadata": {},
   "outputs": [],
   "source": [
    "import numpy as np\n",
    "import hashlib"
   ]
  },
  {
   "cell_type": "code",
   "execution_count": 61,
   "id": "a074e947-aa11-41f0-a28b-0a2b83aa31d8",
   "metadata": {},
   "outputs": [],
   "source": [
    "data = \"yzbqklnj\""
   ]
  },
  {
   "cell_type": "markdown",
   "id": "63cc969b-d7ed-451a-98ff-75f16d620432",
   "metadata": {},
   "source": [
    "## Custom function(s)"
   ]
  },
  {
   "cell_type": "code",
   "execution_count": 64,
   "id": "c7b14735-03dc-4039-ab0b-ed2642ca9852",
   "metadata": {},
   "outputs": [],
   "source": [
    "def Mine(data, numZero):\n",
    "    idx = 0\n",
    "    while True:\n",
    "        res = hashlib.md5(bytes(str(data)+str(idx), 'utf-8')).hexdigest()\n",
    "        if res[:numZero] == \"0\"*numZero:\n",
    "            break\n",
    "        idx += 1\n",
    "    return idx"
   ]
  },
  {
   "cell_type": "markdown",
   "id": "2a19b686-00f1-4cfc-a665-964cf3c57167",
   "metadata": {},
   "source": [
    "## Part 1"
   ]
  },
  {
   "cell_type": "code",
   "execution_count": 67,
   "id": "41e41bc3-a3d0-4523-b140-9556d4004983",
   "metadata": {},
   "outputs": [
    {
     "data": {
      "text/plain": [
       "282749"
      ]
     },
     "execution_count": 67,
     "metadata": {},
     "output_type": "execute_result"
    }
   ],
   "source": [
    "Mine(data, 5)"
   ]
  },
  {
   "cell_type": "markdown",
   "id": "bf84dff2-dcbb-4ad6-8a7f-44e91f2b6928",
   "metadata": {},
   "source": [
    "## Part 2"
   ]
  },
  {
   "cell_type": "code",
   "execution_count": 69,
   "id": "1d70562f-e589-48b0-ba52-14ee739965bb",
   "metadata": {},
   "outputs": [
    {
     "data": {
      "text/plain": [
       "9962624"
      ]
     },
     "execution_count": 69,
     "metadata": {},
     "output_type": "execute_result"
    }
   ],
   "source": [
    "Mine(data, 6)"
   ]
  },
  {
   "cell_type": "code",
   "execution_count": null,
   "id": "a97cd97d-a066-432a-b8fa-f3d21b989a7f",
   "metadata": {},
   "outputs": [],
   "source": []
  }
 ],
 "metadata": {
  "kernelspec": {
   "display_name": "Python 3 (ipykernel)",
   "language": "python",
   "name": "python3"
  },
  "language_info": {
   "codemirror_mode": {
    "name": "ipython",
    "version": 3
   },
   "file_extension": ".py",
   "mimetype": "text/x-python",
   "name": "python",
   "nbconvert_exporter": "python",
   "pygments_lexer": "ipython3",
   "version": "3.10.14"
  }
 },
 "nbformat": 4,
 "nbformat_minor": 5
}
