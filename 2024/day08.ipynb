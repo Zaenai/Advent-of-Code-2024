{
 "cells": [
  {
   "cell_type": "markdown",
   "id": "5bb6a7ff-6632-49d1-8f71-3837c8a8baf8",
   "metadata": {},
   "source": [
    "### Init"
   ]
  },
  {
   "cell_type": "code",
   "execution_count": 2,
   "id": "bee0183e-c338-42eb-a403-1fb8a6e44246",
   "metadata": {},
   "outputs": [],
   "source": [
    "import numpy as np"
   ]
  },
  {
   "cell_type": "code",
   "execution_count": 3,
   "id": "61a07a6d-63bc-4f59-b575-9b6a85f8eace",
   "metadata": {},
   "outputs": [],
   "source": [
    "with open(\"../inputs/input08.txt\") as file: raw_data = file.read()\n",
    "raw_data = raw_data.split(\"\\n\")"
   ]
  },
  {
   "cell_type": "markdown",
   "id": "1dc2b2c1-5ba1-4eb6-85b0-6423a976b0f0",
   "metadata": {},
   "source": [
    "### Preprocessing"
   ]
  },
  {
   "cell_type": "code",
   "execution_count": 5,
   "id": "eac75920-4997-4ef8-81cb-7651e1141285",
   "metadata": {},
   "outputs": [],
   "source": [
    "grid = np.array([np.array(list(d)) for d in raw_data])\n",
    "limX,limY = grid.shape"
   ]
  },
  {
   "cell_type": "markdown",
   "id": "c0967758-78a0-4bd8-8be7-880bcc803a9a",
   "metadata": {},
   "source": [
    "### Custom Function(s)"
   ]
  },
  {
   "cell_type": "code",
   "execution_count": 7,
   "id": "ed933281-4830-4238-a3d1-86c8fda5a6d5",
   "metadata": {},
   "outputs": [],
   "source": [
    "def Antinodes(antenna_names, grid, _cnt, isPart2):\n",
    "    cnt = _cnt\n",
    "    if isPart2:\n",
    "        k_max = 100\n",
    "    else:\n",
    "        k_max = 1\n",
    "    for antenna in antenna_names:\n",
    "        x,y = np.where(grid == antenna)\n",
    "        ant = np.stack((x,y)).T\n",
    "        for i in range(len(ant)-1):\n",
    "            for j in range(i+1, len(ant)):\n",
    "                x1,y1,x2,y2 = *ant[i],*ant[j]\n",
    "                for k in range(k_max):\n",
    "                    if not isPart2:\n",
    "                        k = 1\n",
    "                    offX, offY = np.diff(([x1,x2],[y1,y2]))*k\n",
    "            \n",
    "        \n",
    "                    if ((x1-offX >= 0) and (y1-offY >= 0)) and ((x1-offX < limX) and (y1-offY < limY)):\n",
    "                        pos = grid[x1-offX, y1-offY]\n",
    "                        if pos == \".\":\n",
    "                            grid[x1-offX, y1-offY] = \"#\"\n",
    "                        elif pos in antenna_names:\n",
    "                            if [x1-offX, y1-offY] not in cnt:\n",
    "                                cnt.append([x1-offX, y1-offY])\n",
    "                        \n",
    "                    if ((x2+offX >= 0) and (y2+offY >= 0)) and ((x2+offX < limX) and (y2+offY < limY)):\n",
    "                        pos = grid[x2+offX, y2+offY]\n",
    "                        if pos == \".\":\n",
    "                            grid[x2+offX, y2+offY] = \"#\"\n",
    "                        elif pos in antenna_names:\n",
    "                            if [x2+offX, y2+offY] not in cnt:\n",
    "                                cnt.append([x2+offX, y2+offY])\n",
    "\n",
    "    res = np.unique(grid, return_counts=True)[1][np.where(np.unique(grid) == \"#\")[0][0]] + len(cnt)\n",
    "    return res"
   ]
  },
  {
   "cell_type": "markdown",
   "id": "347544fe-2508-4138-be9d-2014e5994cf0",
   "metadata": {},
   "source": [
    "### Part 1"
   ]
  },
  {
   "cell_type": "code",
   "execution_count": 9,
   "id": "6659e370-45e1-472c-9a26-9dd31a25492d",
   "metadata": {},
   "outputs": [
    {
     "name": "stdout",
     "output_type": "stream",
     "text": [
      "256\n"
     ]
    }
   ],
   "source": [
    "\n",
    "antenna_names = list(np.delete(np.unique(grid), np.where(np.unique(grid) == \".\")[0][0]))\n",
    "p1 = Antinodes(antenna_names, grid, [], False)\n",
    "print(p1)"
   ]
  },
  {
   "attachments": {},
   "cell_type": "markdown",
   "id": "edb35ac9-eac8-4759-a540-091f34c645a2",
   "metadata": {},
   "source": [
    "### Part 2"
   ]
  },
  {
   "cell_type": "code",
   "execution_count": 11,
   "id": "90a8104d-93e7-46f6-a95c-05bbd6de99e2",
   "metadata": {},
   "outputs": [
    {
     "name": "stdout",
     "output_type": "stream",
     "text": [
      "1005\n"
     ]
    }
   ],
   "source": [
    "grid = np.array([np.array(list(d)) for d in raw_data])\n",
    "p2 = Antinodes(antenna_names, grid, [], True)\n",
    "print(p2)"
   ]
  },
  {
   "cell_type": "code",
   "execution_count": null,
   "id": "75e53feb-b8c5-4482-af8a-e60f32b8a432",
   "metadata": {},
   "outputs": [],
   "source": []
  }
 ],
 "metadata": {
  "kernelspec": {
   "display_name": "Python 3 (ipykernel)",
   "language": "python",
   "name": "python3"
  },
  "language_info": {
   "codemirror_mode": {
    "name": "ipython",
    "version": 3
   },
   "file_extension": ".py",
   "mimetype": "text/x-python",
   "name": "python",
   "nbconvert_exporter": "python",
   "pygments_lexer": "ipython3",
   "version": "3.10.14"
  }
 },
 "nbformat": 4,
 "nbformat_minor": 5
}
