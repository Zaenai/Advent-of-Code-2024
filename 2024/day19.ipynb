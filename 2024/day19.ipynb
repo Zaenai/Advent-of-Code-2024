{
 "cells": [
  {
   "cell_type": "markdown",
   "id": "5bb6a7ff-6632-49d1-8f71-3837c8a8baf8",
   "metadata": {},
   "source": [
    "### Init"
   ]
  },
  {
   "cell_type": "code",
   "execution_count": 2,
   "id": "bee0183e-c338-42eb-a403-1fb8a6e44246",
   "metadata": {},
   "outputs": [],
   "source": [
    "import numpy as np\n",
    "import re"
   ]
  },
  {
   "cell_type": "code",
   "execution_count": 3,
   "id": "61a07a6d-63bc-4f59-b575-9b6a85f8eace",
   "metadata": {},
   "outputs": [],
   "source": [
    "with open(\"inputs/input19.txt\") as file: raw_data = file.read()\n",
    "data,ptrns = raw_data.split(\"\\n\\n\")\n",
    "buildingBlocks, thePatterns = [d.strip() for d in data.split(\",\")], ptrns.split(\"\\n\")"
   ]
  },
  {
   "cell_type": "markdown",
   "id": "c0967758-78a0-4bd8-8be7-880bcc803a9a",
   "metadata": {},
   "source": [
    "### Custom Function(s)"
   ]
  },
  {
   "cell_type": "code",
   "execution_count": 5,
   "id": "ed933281-4830-4238-a3d1-86c8fda5a6d5",
   "metadata": {},
   "outputs": [],
   "source": [
    "def CreatePattern(data):\n",
    "    # Should be \"(^((r)?|(wr)?|(b)?|(g)?|(bwu)?|(rb)?|(gb)?|(br)?)+$)\"\n",
    "    # for the test case\n",
    "    ptrn = \"(^(\"\n",
    "    for d in data:\n",
    "        ptrn += \"(\" + d +  \")|\"\n",
    "    \n",
    "    ptrn = ptrn[:-1]\n",
    "    ptrn += \")+$)\"\n",
    "    \n",
    "    return ptrn\n",
    "    \n",
    "def FindAllCombinations(blocks, theString):\n",
    "    \n",
    "    N = len(theString)\n",
    "    combinations = np.zeros(N+1)\n",
    "    combinations[0] = 1\n",
    "\n",
    "    for idx in range(1, N + 1):\n",
    "        for block in blocks:\n",
    "            if idx >= len(block) and theString[idx - len(block) : idx] == block:\n",
    "                combinations[idx] += combinations[idx - len(block)]\n",
    "    \n",
    "    return int(combinations[-1])"
   ]
  },
  {
   "cell_type": "markdown",
   "id": "347544fe-2508-4138-be9d-2014e5994cf0",
   "metadata": {},
   "source": [
    "### Part 1"
   ]
  },
  {
   "cell_type": "code",
   "execution_count": 7,
   "id": "6659e370-45e1-472c-9a26-9dd31a25492d",
   "metadata": {},
   "outputs": [],
   "source": [
    "regexPattern = CreatePattern(buildingBlocks)\n",
    "\n",
    "cnt = 0\n",
    "for pattern in thePatterns:\n",
    "    if re.match(regexPattern, pattern):\n",
    "        cnt += 1"
   ]
  },
  {
   "cell_type": "code",
   "execution_count": 8,
   "id": "b308fd39-feb1-4b1a-ab59-dac08f1c067d",
   "metadata": {},
   "outputs": [
    {
     "data": {
      "text/plain": [
       "358"
      ]
     },
     "execution_count": 8,
     "metadata": {},
     "output_type": "execute_result"
    }
   ],
   "source": [
    "cnt"
   ]
  },
  {
   "attachments": {},
   "cell_type": "markdown",
   "id": "edb35ac9-eac8-4759-a540-091f34c645a2",
   "metadata": {},
   "source": [
    "### Part 2"
   ]
  },
  {
   "cell_type": "code",
   "execution_count": 10,
   "id": "d33f2293-a27c-4ee3-a16c-8ac4450b1272",
   "metadata": {},
   "outputs": [],
   "source": [
    "cnt = 0\n",
    "for pattern in thePatterns:\n",
    "    cnt += FindAllCombinations(buildingBlocks, pattern)"
   ]
  },
  {
   "cell_type": "code",
   "execution_count": 11,
   "id": "8b13bdca-f5c4-4a48-ba4e-758bf24e59e4",
   "metadata": {},
   "outputs": [
    {
     "data": {
      "text/plain": [
       "600639829400603"
      ]
     },
     "execution_count": 11,
     "metadata": {},
     "output_type": "execute_result"
    }
   ],
   "source": [
    "cnt"
   ]
  }
 ],
 "metadata": {
  "kernelspec": {
   "display_name": "Python 3 (ipykernel)",
   "language": "python",
   "name": "python3"
  },
  "language_info": {
   "codemirror_mode": {
    "name": "ipython",
    "version": 3
   },
   "file_extension": ".py",
   "mimetype": "text/x-python",
   "name": "python",
   "nbconvert_exporter": "python",
   "pygments_lexer": "ipython3",
   "version": "3.10.14"
  }
 },
 "nbformat": 4,
 "nbformat_minor": 5
}
