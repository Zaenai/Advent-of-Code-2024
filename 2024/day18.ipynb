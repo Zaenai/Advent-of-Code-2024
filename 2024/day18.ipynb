{
 "cells": [
  {
   "cell_type": "markdown",
   "id": "5bb6a7ff-6632-49d1-8f71-3837c8a8baf8",
   "metadata": {},
   "source": [
    "### Init"
   ]
  },
  {
   "cell_type": "code",
   "execution_count": 2,
   "id": "bee0183e-c338-42eb-a403-1fb8a6e44246",
   "metadata": {},
   "outputs": [],
   "source": [
    "import numpy as np\n",
    "import re"
   ]
  },
  {
   "cell_type": "code",
   "execution_count": 3,
   "id": "61a07a6d-63bc-4f59-b575-9b6a85f8eace",
   "metadata": {},
   "outputs": [],
   "source": [
    "with open(\"inputs/input18.txt\") as file: raw_data = file.read()\n",
    "data = np.array([list(map(int,rd.split(\",\"))) for rd in raw_data.split(\"\\n\")])"
   ]
  },
  {
   "cell_type": "markdown",
   "id": "c0967758-78a0-4bd8-8be7-880bcc803a9a",
   "metadata": {},
   "source": [
    "### Custom Function(s)"
   ]
  },
  {
   "cell_type": "code",
   "execution_count": 5,
   "id": "ed933281-4830-4238-a3d1-86c8fda5a6d5",
   "metadata": {},
   "outputs": [],
   "source": [
    "class Tile:\n",
    "    def __init__(self, _x, _y, _val):\n",
    "        self.x = _x\n",
    "        self.y = _y\n",
    "        self.val = _val\n",
    "        self.neighbours = []\n",
    "        self.parent = None\n",
    "\n",
    "    def __repr__(self):\n",
    "        return str(self.val)\n",
    "\n",
    "    def FindNeighbours(self, grid):\n",
    "        for i in [-1, 0, 1]:\n",
    "            for j in [-1, 0, 1]:\n",
    "                if abs(i) != abs(j):\n",
    "                    cand = grid[self.x+i+1, self.y+j+1]\n",
    "                    if cand.val == \".\":\n",
    "                        self.neighbours.append(cand)\n",
    "\n",
    "\n",
    "def BFS(source, target):\n",
    "    Q, explored = [], set()\n",
    "    \n",
    "    explored.add(source)\n",
    "    Q.append(source)\n",
    "    \n",
    "    while len(Q):\n",
    "        v = Q.pop(0)\n",
    "        if v == target:\n",
    "            return v\n",
    "        for w in v.neighbours:\n",
    "            if w not in explored:\n",
    "                explored.add(w)\n",
    "                w.parent = v\n",
    "                Q.append(w)\n",
    "    else:\n",
    "        return None"
   ]
  },
  {
   "cell_type": "markdown",
   "id": "347544fe-2508-4138-be9d-2014e5994cf0",
   "metadata": {},
   "source": [
    "### Part 1"
   ]
  },
  {
   "cell_type": "code",
   "execution_count": 7,
   "id": "6659e370-45e1-472c-9a26-9dd31a25492d",
   "metadata": {},
   "outputs": [],
   "source": [
    "grid = np.empty((71,71), dtype=object)\n",
    "for x in range(71):\n",
    "    for y in range(71):\n",
    "        grid[x,y] = Tile(x, y, \".\")\n",
    "\n",
    "for fb in data[:1024]:\n",
    "    y,x = fb\n",
    "    grid[x,y].val = \"#\"\n",
    "\n",
    "grid = np.pad(grid, ((1,1),(1,1)), mode='constant', constant_values=Tile(0,0,\"#\"))\n",
    "for tile in grid.flatten():\n",
    "    if tile.val == \".\":\n",
    "        tile.FindNeighbours(grid)\n",
    "grid = grid[1:-1, 1:-1]\n",
    "S = grid[0,0]\n",
    "E = grid[-1,-1]"
   ]
  },
  {
   "cell_type": "code",
   "execution_count": 8,
   "id": "b308fd39-feb1-4b1a-ab59-dac08f1c067d",
   "metadata": {},
   "outputs": [
    {
     "data": {
      "text/plain": [
       "320"
      ]
     },
     "execution_count": 8,
     "metadata": {},
     "output_type": "execute_result"
    }
   ],
   "source": [
    "path = []\n",
    "p = BFS(S, E)\n",
    "while p != None:\n",
    "    path.append(p)\n",
    "    p = p.parent\n",
    "len(path) - 1"
   ]
  },
  {
   "attachments": {},
   "cell_type": "markdown",
   "id": "edb35ac9-eac8-4759-a540-091f34c645a2",
   "metadata": {},
   "source": [
    "### Part 2"
   ]
  },
  {
   "cell_type": "code",
   "execution_count": 10,
   "id": "90a8104d-93e7-46f6-a95c-05bbd6de99e2",
   "metadata": {},
   "outputs": [
    {
     "name": "stdout",
     "output_type": "stream",
     "text": [
      "2906 [34 40]\n"
     ]
    }
   ],
   "source": [
    "for trial in range(len(data)):\n",
    "    grid = np.empty((71,71), dtype=object)\n",
    "    for x in range(71):\n",
    "        for y in range(71):\n",
    "            grid[x,y] = Tile(x, y, \".\")\n",
    "    \n",
    "    for fb in data[:trial]:\n",
    "        y,x = fb\n",
    "        grid[x,y].val = \"#\"\n",
    "    \n",
    "    grid = np.pad(grid, ((1,1),(1,1)), mode='constant', constant_values=Tile(0,0,\"#\"))\n",
    "    for tile in grid.flatten():\n",
    "        if tile.val == \".\":\n",
    "            tile.FindNeighbours(grid)\n",
    "    grid = grid[1:-1, 1:-1]\n",
    "    S = grid[0,0]\n",
    "    E = grid[-1,-1]\n",
    "    \n",
    "    path = []\n",
    "    p = BFS(S, E)\n",
    "    if p == None:\n",
    "        print(trial, data[trial-1])\n",
    "        break\n",
    "    while p != None:\n",
    "        path.append(p)\n",
    "        p = p.parent\n",
    "    len(path) - 1\n",
    "    "
   ]
  },
  {
   "cell_type": "code",
   "execution_count": null,
   "id": "d33f2293-a27c-4ee3-a16c-8ac4450b1272",
   "metadata": {},
   "outputs": [],
   "source": []
  }
 ],
 "metadata": {
  "kernelspec": {
   "display_name": "Python 3 (ipykernel)",
   "language": "python",
   "name": "python3"
  },
  "language_info": {
   "codemirror_mode": {
    "name": "ipython",
    "version": 3
   },
   "file_extension": ".py",
   "mimetype": "text/x-python",
   "name": "python",
   "nbconvert_exporter": "python",
   "pygments_lexer": "ipython3",
   "version": "3.10.14"
  }
 },
 "nbformat": 4,
 "nbformat_minor": 5
}
