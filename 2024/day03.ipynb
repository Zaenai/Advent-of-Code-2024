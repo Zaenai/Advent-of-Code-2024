{
 "cells": [
  {
   "cell_type": "markdown",
   "id": "5bb6a7ff-6632-49d1-8f71-3837c8a8baf8",
   "metadata": {},
   "source": [
    "### Init"
   ]
  },
  {
   "cell_type": "code",
   "execution_count": 3,
   "id": "bee0183e-c338-42eb-a403-1fb8a6e44246",
   "metadata": {},
   "outputs": [],
   "source": [
    "import numpy as np\n",
    "import re"
   ]
  },
  {
   "cell_type": "code",
   "execution_count": 4,
   "id": "61a07a6d-63bc-4f59-b575-9b6a85f8eace",
   "metadata": {},
   "outputs": [],
   "source": [
    "with open(\"../inputs/input03.txt\") as file: raw_data = file.read()\n",
    "#with open(\"../inputs/input03_test_p1.txt\") as file: raw_data = file.read()\n",
    "#with open(\"../inputs/input03_test_p2.txt\") as file: raw_data = file.read()"
   ]
  },
  {
   "cell_type": "markdown",
   "id": "1dc2b2c1-5ba1-4eb6-85b0-6423a976b0f0",
   "metadata": {},
   "source": [
    "### Custom function(s)"
   ]
  },
  {
   "cell_type": "code",
   "execution_count": 6,
   "id": "eac75920-4997-4ef8-81cb-7651e1141285",
   "metadata": {},
   "outputs": [],
   "source": [
    "def ConvertRawStringToInt(instruction):\n",
    "    return np.array([int(re.findall(\"[0-9]+,\", inst)[0][:-1]), int((re.findall(\",[0-9]+\",inst))[0][1:])])"
   ]
  },
  {
   "cell_type": "markdown",
   "id": "347544fe-2508-4138-be9d-2014e5994cf0",
   "metadata": {},
   "source": [
    "### Part 1"
   ]
  },
  {
   "cell_type": "code",
   "execution_count": 8,
   "id": "6659e370-45e1-472c-9a26-9dd31a25492d",
   "metadata": {},
   "outputs": [],
   "source": [
    "# This cryptic regex first searches any number of numbers, separated by a comma and inclosed \n",
    "# in a set of parentheses spearheaded by the word \"mul\", i.e. mul(1,1), mul(231,1), mul(255111,49278) all trigger.\n",
    "# This may be a problem since we are specifically looking for between 1 and 3 digits in each, but is usable for now.\n",
    "\n",
    "mul_array = []\n",
    "instructions = re.findall(\"mul\\([0-9]+,[0-9]+\\)\", raw_data)\n",
    "for inst in instructions:\n",
    "    mul_array.append(ConvertRawStringToInt(inst))"
   ]
  },
  {
   "cell_type": "code",
   "execution_count": 9,
   "id": "dcbe504a-9f0a-45a5-8fb3-a5abe958eb3f",
   "metadata": {},
   "outputs": [
    {
     "name": "stdout",
     "output_type": "stream",
     "text": [
      "161085926\n"
     ]
    }
   ],
   "source": [
    "mul_array = np.array(mul_array)\n",
    "p1 = np.multiply(*np.array(mul_array).T)\n",
    "print(sum(p1))"
   ]
  },
  {
   "cell_type": "markdown",
   "id": "2258dd4f-eab9-4d0e-bf76-e49c8b295025",
   "metadata": {},
   "source": [
    "### Part 2"
   ]
  },
  {
   "cell_type": "code",
   "execution_count": 11,
   "id": "e80bbfda-969d-4361-a54f-ea3def277d93",
   "metadata": {},
   "outputs": [],
   "source": [
    "# In addendum to part 1, we are now either looking for the mul pattern, OR (denoted by the |) any of the starting or stopping terms, do() and don't().\n",
    "# We proceed to add ALL the finds to a list for filtering later.\n",
    "instructions = re.findall(\"mul\\([0-9]+,[0-9]+\\)|do\\(\\)|don\\'t\\(\\)\", raw_data)"
   ]
  },
  {
   "cell_type": "code",
   "execution_count": 12,
   "id": "a2efe667-12cc-44cb-b058-8cf99de6b6eb",
   "metadata": {},
   "outputs": [
    {
     "name": "stdout",
     "output_type": "stream",
     "text": [
      "82045421\n"
     ]
    }
   ],
   "source": [
    "mul_array = []\n",
    "isDisabled = False\n",
    "for inst in instructions:\n",
    "\n",
    "    # Check if we are currently disabled, if we are not disabled, proceed with next mul instruction,\n",
    "    # if we are indeed disabled, check if we are being reenabled, otherwise skip next instruction altogether.\n",
    "    if \"do()\" == inst:\n",
    "        isDisabled = False\n",
    "    elif \"don't()\" == inst:\n",
    "        isDisabled = True\n",
    "    elif not isDisabled:\n",
    "        mul_array.append(ConvertRawStringToInt(inst))\n",
    "\n",
    "mul_array = np.array(mul_array)\n",
    "p1 = np.multiply(*np.array(mul_array).T)\n",
    "print(sum(p1))"
   ]
  }
 ],
 "metadata": {
  "kernelspec": {
   "display_name": "Python 3 (ipykernel)",
   "language": "python",
   "name": "python3"
  },
  "language_info": {
   "codemirror_mode": {
    "name": "ipython",
    "version": 3
   },
   "file_extension": ".py",
   "mimetype": "text/x-python",
   "name": "python",
   "nbconvert_exporter": "python",
   "pygments_lexer": "ipython3",
   "version": "3.10.14"
  }
 },
 "nbformat": 4,
 "nbformat_minor": 5
}
