{
 "cells": [
  {
   "cell_type": "markdown",
   "id": "5bb6a7ff-6632-49d1-8f71-3837c8a8baf8",
   "metadata": {},
   "source": [
    "### Init"
   ]
  },
  {
   "cell_type": "code",
   "execution_count": 2,
   "id": "bee0183e-c338-42eb-a403-1fb8a6e44246",
   "metadata": {},
   "outputs": [],
   "source": [
    "import numpy as np"
   ]
  },
  {
   "cell_type": "code",
   "execution_count": 3,
   "id": "61a07a6d-63bc-4f59-b575-9b6a85f8eace",
   "metadata": {},
   "outputs": [],
   "source": [
    "with open(\"../inputs/input05.txt\") as file: raw_data = file.read()\n",
    "data = raw_data.split(\"\\n\")\n",
    "page_ordering = np.array([np.array(list(map(int,d.split(\"|\")))) for d in data if \"|\" in d])\n",
    "updates = [list(map(int,d.split(\",\"))) for d in data if \"|\" not in d and d != \"\"]"
   ]
  },
  {
   "cell_type": "markdown",
   "id": "1dc2b2c1-5ba1-4eb6-85b0-6423a976b0f0",
   "metadata": {},
   "source": [
    "### Preprocessing"
   ]
  },
  {
   "cell_type": "code",
   "execution_count": 5,
   "id": "eac75920-4997-4ef8-81cb-7651e1141285",
   "metadata": {},
   "outputs": [],
   "source": [
    "pages = {}\n",
    "for ordering in page_ordering:\n",
    "    if ordering[0] not in pages:\n",
    "        pages[ordering[0]] = [ordering[1]]\n",
    "    else:\n",
    "        pages[ordering[0]].append(ordering[1])\n",
    "        pages[ordering[0]] = sorted(pages[ordering[0]])"
   ]
  },
  {
   "cell_type": "markdown",
   "id": "347544fe-2508-4138-be9d-2014e5994cf0",
   "metadata": {},
   "source": [
    "### Part 1"
   ]
  },
  {
   "cell_type": "code",
   "execution_count": 7,
   "id": "6659e370-45e1-472c-9a26-9dd31a25492d",
   "metadata": {},
   "outputs": [],
   "source": [
    "cnt = []\n",
    "for idx,upd in enumerate(updates):\n",
    "    isBroken = False\n",
    "    for jdx,u in enumerate(upd):\n",
    "        if isBroken:\n",
    "            break\n",
    "        if u not in pages:\n",
    "            continue\n",
    "        for p in pages[u]:\n",
    "            if p in upd[:jdx]:\n",
    "                cnt.append(idx)\n",
    "                isBroken = True\n",
    "                break"
   ]
  },
  {
   "cell_type": "code",
   "execution_count": 8,
   "id": "8ad05000-cc53-4d1e-8c92-595948ce485a",
   "metadata": {},
   "outputs": [
    {
     "data": {
      "text/plain": [
       "3608"
      ]
     },
     "execution_count": 8,
     "metadata": {},
     "output_type": "execute_result"
    }
   ],
   "source": [
    "idxs = np.delete(np.arange(idx+1),cnt)\n",
    "sum([updates[idx][len(updates[idx])//2] for idx in idxs])"
   ]
  },
  {
   "attachments": {},
   "cell_type": "markdown",
   "id": "edb35ac9-eac8-4759-a540-091f34c645a2",
   "metadata": {},
   "source": [
    "### Part 2"
   ]
  },
  {
   "cell_type": "code",
   "execution_count": 10,
   "id": "a2efe667-12cc-44cb-b058-8cf99de6b6eb",
   "metadata": {},
   "outputs": [],
   "source": [
    "N = max([len(upd) for upd in updates])\n",
    "\n",
    "for i in range(N**2//2): # May need to raise, depending on input size\n",
    "    for idx in cnt:\n",
    "        isBroken = False\n",
    "        upd = updates[idx]\n",
    "        for jdx,u in enumerate(upd):\n",
    "            if isBroken:\n",
    "                break\n",
    "            if u not in pages:\n",
    "                continue\n",
    "            for p in pages[u]:\n",
    "                if p in upd[:jdx]:\n",
    "                    new_idxs = [np.where(upd == p)[0][0], jdx]\n",
    "                    upd[new_idxs[0]], upd[new_idxs[1]] = upd[new_idxs[1]], upd[new_idxs[0]]\n",
    "                    isBroken = True\n",
    "                    updates[idx] = upd\n",
    "                    break"
   ]
  },
  {
   "cell_type": "code",
   "execution_count": 11,
   "id": "1c1fbbab-4269-495d-8651-279ccc79994f",
   "metadata": {},
   "outputs": [
    {
     "data": {
      "text/plain": [
       "4922"
      ]
     },
     "execution_count": 11,
     "metadata": {},
     "output_type": "execute_result"
    }
   ],
   "source": [
    "sum([updates[idx][len(updates[idx])//2] for idx in cnt])"
   ]
  },
  {
   "cell_type": "code",
   "execution_count": null,
   "id": "4554bdbf-02f1-45c7-b47b-5e3ccb3d4dc0",
   "metadata": {},
   "outputs": [],
   "source": []
  }
 ],
 "metadata": {
  "kernelspec": {
   "display_name": "Python 3 (ipykernel)",
   "language": "python",
   "name": "python3"
  },
  "language_info": {
   "codemirror_mode": {
    "name": "ipython",
    "version": 3
   },
   "file_extension": ".py",
   "mimetype": "text/x-python",
   "name": "python",
   "nbconvert_exporter": "python",
   "pygments_lexer": "ipython3",
   "version": "3.10.14"
  }
 },
 "nbformat": 4,
 "nbformat_minor": 5
}
