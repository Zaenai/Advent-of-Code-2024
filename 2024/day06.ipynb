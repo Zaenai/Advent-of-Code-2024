{
 "cells": [
  {
   "cell_type": "markdown",
   "id": "5bb6a7ff-6632-49d1-8f71-3837c8a8baf8",
   "metadata": {},
   "source": [
    "### Init"
   ]
  },
  {
   "cell_type": "code",
   "execution_count": 2,
   "id": "bee0183e-c338-42eb-a403-1fb8a6e44246",
   "metadata": {},
   "outputs": [],
   "source": [
    "import numpy as np"
   ]
  },
  {
   "cell_type": "code",
   "execution_count": 3,
   "id": "61a07a6d-63bc-4f59-b575-9b6a85f8eace",
   "metadata": {},
   "outputs": [],
   "source": [
    "with open(\"../inputs/input06.txt\") as file: raw_data = file.read()\n",
    "data = raw_data.split(\"\\n\")\n",
    "grid = np.array([list(d) for d in data])\n",
    "grid = np.pad(grid, [(1, 1), (1, 1)], mode='constant', constant_values=\"z\")"
   ]
  },
  {
   "cell_type": "code",
   "execution_count": 4,
   "id": "eac75920-4997-4ef8-81cb-7651e1141285",
   "metadata": {},
   "outputs": [],
   "source": [
    "checkDir = {\n",
    "    \"^\":[-1,0],\n",
    "    \">\":[0, 1],\n",
    "    \"v\":[1, 0],\n",
    "    \"<\":[0,-1]    \n",
    "}\n",
    "\n",
    "guard = np.where(grid == \"^\")[0][0], np.where(grid == \"^\")[1][0]\n",
    "guard = np.array(guard)"
   ]
  },
  {
   "cell_type": "markdown",
   "id": "347544fe-2508-4138-be9d-2014e5994cf0",
   "metadata": {},
   "source": [
    "### Part 1"
   ]
  },
  {
   "cell_type": "code",
   "execution_count": 6,
   "id": "6659e370-45e1-472c-9a26-9dd31a25492d",
   "metadata": {},
   "outputs": [],
   "source": [
    "#newPath = []\n",
    "notatedGrid = grid.copy()\n",
    "rotationIdx = 0\n",
    "inBounds=True\n",
    "#newPath.append(guard)\n",
    "notatedGrid[guard[0],guard[1]] = \"X\"\n",
    "while inBounds:\n",
    "    dir = checkDir[list(checkDir.keys())[rotationIdx%4]]\n",
    "    while True:\n",
    "        newX,newY = guard+dir\n",
    "        if grid[newX,newY] == \"z\":\n",
    "            inBounds = False\n",
    "            break\n",
    "        elif grid[newX,newY] in [\".\", \"^\"]:\n",
    "            #newPath.append(guard+dir)\n",
    "            guard = np.array([newX,newY])\n",
    "            notatedGrid[newX,newY] = \"X\"\n",
    "        else:\n",
    "            newX,newY = guard\n",
    "            rotationIdx += 1\n",
    "            break\n",
    "    \n",
    "    "
   ]
  },
  {
   "cell_type": "code",
   "execution_count": 7,
   "id": "8ad05000-cc53-4d1e-8c92-595948ce485a",
   "metadata": {},
   "outputs": [
    {
     "name": "stdout",
     "output_type": "stream",
     "text": [
      "5177\n"
     ]
    }
   ],
   "source": [
    "X_index = [np.where(np.unique(notatedGrid, \"X\", return_counts=True)[0] == \"X\")[0]][0]\n",
    "X_count = np.unique(notatedGrid, \"X\", return_counts=True)[2][X_index][0]\n",
    "print(X_count)"
   ]
  },
  {
   "cell_type": "code",
   "execution_count": null,
   "id": "a8042635-301f-41e7-9481-3cd1c3ecefd8",
   "metadata": {},
   "outputs": [],
   "source": []
  },
  {
   "attachments": {},
   "cell_type": "markdown",
   "id": "e959dc3a-3b29-4865-92a6-c0013cca727d",
   "metadata": {},
   "source": [
    "### Part 2"
   ]
  },
  {
   "cell_type": "code",
   "execution_count": 9,
   "id": "a2efe667-12cc-44cb-b058-8cf99de6b6eb",
   "metadata": {},
   "outputs": [],
   "source": [
    "with open(\"../inputs/input06.txt\") as file: raw_data = file.read()\n",
    "data = raw_data.split(\"\\n\")\n",
    "og_grid = np.array([list(d) for d in data])\n",
    "og_grid = np.pad(og_grid, [(1, 1), (1, 1)], mode='constant', constant_values=\"z\")"
   ]
  },
  {
   "cell_type": "code",
   "execution_count": 10,
   "id": "1c1fbbab-4269-495d-8651-279ccc79994f",
   "metadata": {},
   "outputs": [],
   "source": [
    "def Part2(grid, notatedGrid, amtWorker):\n",
    "    #grid, notatedGrid, Xs, Ys = args    \n",
    "    \n",
    "    cnt = 0\n",
    "    p1_grid = notatedGrid.copy()\n",
    "    Xs,Ys = np.where(p1_grid == \"X\")\n",
    "    #print(amtWorker)\n",
    "    Xs = Xs[len(Xs)//2*amtWorker:len(Xs)//2 * (amtWorker+1)]\n",
    "    Ys = Ys[len(Ys)//2*amtWorker:len(Ys)//2 * (amtWorker+1)]\n",
    "    for i,j in zip(Xs,Ys):\n",
    "            grid = og_grid.copy()\n",
    "            guard = np.where(grid == \"^\")[0][0], np.where(grid == \"^\")[1][0]\n",
    "            guard = np.array(guard)\n",
    "            og_guard = guard.copy()\n",
    "            if True:#i != guard[0] and j != guard[1]:\n",
    "                grid[i,j] = \"#\"\n",
    "                loopChecker = {\n",
    "                    0:[],\n",
    "                    1:[],\n",
    "                    2:[],\n",
    "                    3:[]\n",
    "                }\n",
    "    \n",
    "                notatedGrid = grid.copy()\n",
    "                rotationIdx = 0\n",
    "                inBounds = True\n",
    "                notatedGrid[guard[0],guard[1]] = \"X\"\n",
    "                while inBounds:\n",
    "                    dir = checkDir[list(checkDir.keys())[rotationIdx%4]]\n",
    "                    while True:\n",
    "                        newX,newY = guard+dir\n",
    "                            \n",
    "                        if grid[newX,newY] == \"z\":\n",
    "                            inBounds = False\n",
    "                            break\n",
    "                        elif grid[newX,newY] in [\".\", \"^\"]:\n",
    "                            guard = np.array([newX,newY])\n",
    "                            notatedGrid[newX,newY] = \"X\"\n",
    "                            newPos = [newX,newY]\n",
    "                            if newPos in loopChecker[rotationIdx%4]:\n",
    "                                #print(\"Loop!\", i-1,j-1)\n",
    "                                inBounds = False\n",
    "                                notatedGrid[i,j] = \"O\"\n",
    "                                notatedGrid[og_guard[0],og_guard[1]] = \"^\"\n",
    "                                #print(notatedGrid)#[0:-1][1:-1])\n",
    "                                counter.value += 1\n",
    "                                break\n",
    "                            else:\n",
    "                                loopChecker[rotationIdx%4].append([newX,newY])\n",
    "                        else:\n",
    "                            newX,newY = guard\n",
    "                            rotationIdx += 1\n",
    "                            break   \n",
    "    #return cnt           \n",
    "                   "
   ]
  },
  {
   "cell_type": "code",
   "execution_count": 11,
   "id": "4554bdbf-02f1-45c7-b47b-5e3ccb3d4dc0",
   "metadata": {},
   "outputs": [],
   "source": [
    "import multiprocessing\n",
    "counter = multiprocessing.Value('i', 0)  # Shared integer, initialized to 0\n",
    "lock = multiprocessing.Lock()\n",
    "\n",
    "processes = []\n",
    "for tp in range(1,32):\n",
    "    processes.append(multiprocessing.Process(target=Part2(grid, notatedGrid, tp)))\n",
    "\n",
    "for process in processes:\n",
    "    process.start()\n",
    "\n",
    "for process in processes:\n",
    "    process.join()\n",
    "\n",
    "# process IDs\n",
    "#print(\"ID of process p1: {}\".format(p1.pid))\n",
    "#print(\"ID of process p2: {}\".format(p2.pid))\n",
    "\n",
    "# wait until processes are finished\n",
    "#p1.join()\n",
    "#p2.join()\n",
    "#p3.join()\n",
    "\n"
   ]
  },
  {
   "cell_type": "code",
   "execution_count": 12,
   "id": "758bd691-78cd-4932-91fe-23d1190014c6",
   "metadata": {},
   "outputs": [
    {
     "data": {
      "text/plain": [
       "859"
      ]
     },
     "execution_count": 12,
     "metadata": {},
     "output_type": "execute_result"
    }
   ],
   "source": [
    "counter.value"
   ]
  },
  {
   "cell_type": "code",
   "execution_count": null,
   "id": "bc501e2f-ac21-4d66-94b0-0ac377a2055a",
   "metadata": {},
   "outputs": [],
   "source": []
  },
  {
   "cell_type": "code",
   "execution_count": null,
   "id": "95015810-5680-4a6b-bb4a-3ab8211b7eb4",
   "metadata": {},
   "outputs": [],
   "source": []
  },
  {
   "cell_type": "code",
   "execution_count": null,
   "id": "2060a189-271c-4340-8a72-4192eadda3f9",
   "metadata": {},
   "outputs": [],
   "source": []
  }
 ],
 "metadata": {
  "kernelspec": {
   "display_name": "Python 3 (ipykernel)",
   "language": "python",
   "name": "python3"
  },
  "language_info": {
   "codemirror_mode": {
    "name": "ipython",
    "version": 3
   },
   "file_extension": ".py",
   "mimetype": "text/x-python",
   "name": "python",
   "nbconvert_exporter": "python",
   "pygments_lexer": "ipython3",
   "version": "3.10.14"
  }
 },
 "nbformat": 4,
 "nbformat_minor": 5
}
