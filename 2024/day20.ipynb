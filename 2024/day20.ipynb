{
 "cells": [
  {
   "cell_type": "markdown",
   "id": "5bb6a7ff-6632-49d1-8f71-3837c8a8baf8",
   "metadata": {},
   "source": [
    "### Init"
   ]
  },
  {
   "cell_type": "code",
   "execution_count": 2,
   "id": "bee0183e-c338-42eb-a403-1fb8a6e44246",
   "metadata": {},
   "outputs": [],
   "source": [
    "import numpy as np"
   ]
  },
  {
   "cell_type": "code",
   "execution_count": 3,
   "id": "61a07a6d-63bc-4f59-b575-9b6a85f8eace",
   "metadata": {},
   "outputs": [],
   "source": [
    "with open(\"inputs/input20.txt\") as file: raw_data = file.read()\n",
    "grid = np.array([list(rd) for rd in raw_data.split(\"\\n\")])"
   ]
  },
  {
   "cell_type": "markdown",
   "id": "c0967758-78a0-4bd8-8be7-880bcc803a9a",
   "metadata": {},
   "source": [
    "### Custom Function(s)"
   ]
  },
  {
   "cell_type": "code",
   "execution_count": 5,
   "id": "ed933281-4830-4238-a3d1-86c8fda5a6d5",
   "metadata": {},
   "outputs": [],
   "source": [
    "def BFS(source, target):    \n",
    "    source = source[0]+source[1]*1j\n",
    "    target = target[0]+target[1]*1j\n",
    "    Path = [source]\n",
    "    \n",
    "    Q, explored = [], set()\n",
    "    explored.add(source)\n",
    "    Q.append(source)\n",
    "    \n",
    "    while len(Q):\n",
    "        v = Q.pop(0)\n",
    "        if v == target:\n",
    "            return Path\n",
    "        for w in neighbours[v.real+v.imag*1j]:\n",
    "            w = w[0]+w[1]*1j\n",
    "            if w not in explored:\n",
    "                explored.add(w)\n",
    "                Path.append(w)\n",
    "                Q.append(w)\n",
    "    else:\n",
    "        return None"
   ]
  },
  {
   "cell_type": "markdown",
   "id": "347544fe-2508-4138-be9d-2014e5994cf0",
   "metadata": {},
   "source": [
    "### Part 1"
   ]
  },
  {
   "cell_type": "code",
   "execution_count": 7,
   "id": "6659e370-45e1-472c-9a26-9dd31a25492d",
   "metadata": {},
   "outputs": [],
   "source": [
    "S = np.argwhere(grid == \"S\")[0]\n",
    "E = np.argwhere(grid == \"E\")[0]\n",
    "slowPath = []\n",
    "neighbours = {}\n",
    "for x,row in enumerate(grid):\n",
    "    for y,cell in enumerate(row):\n",
    "        if cell in [\"S\", \"E\", \".\"]:\n",
    "            nbs = []\n",
    "            slowPath.append(x+y*1j)\n",
    "            for i in [-1, 0, 1]:\n",
    "                for j in [-1, 0, 1]:\n",
    "                    if (abs(i) != abs(j)) and (grid[x+i, y+j] in [\"S\", \"E\", \".\"]):\n",
    "                        nbs.append([x+i, y+j])\n",
    "            neighbours[x+y*1j] =  nbs"
   ]
  },
  {
   "cell_type": "code",
   "execution_count": 8,
   "id": "c35c66b7-9e20-4508-befe-6f5a432fe19b",
   "metadata": {},
   "outputs": [],
   "source": [
    "ps = {}\n",
    "p = BFS(S, E)\n",
    "for i,r in enumerate(p):\n",
    "    ps[r] = i"
   ]
  },
  {
   "cell_type": "code",
   "execution_count": 9,
   "id": "b308fd39-feb1-4b1a-ab59-dac08f1c067d",
   "metadata": {},
   "outputs": [
    {
     "name": "stdout",
     "output_type": "stream",
     "text": [
      "1438\n"
     ]
    }
   ],
   "source": [
    "timeSaved = []\n",
    "for tile in slowPath:\n",
    "    for dx in range(-2,3):\n",
    "        for dy in range(-2,3):\n",
    "            if abs(dx) + abs(dy) <= 2 and not dx == dy == 0:\n",
    "                nt = tile+(dx+dy*1j)\n",
    "                if nt in slowPath:\n",
    "                    if ps[nt] - ps[tile] >= abs(dx)+abs(dy) + 100:\n",
    "                        timeSaved.append((nt, tile))\n",
    "print(len(timeSaved))"
   ]
  },
  {
   "attachments": {},
   "cell_type": "markdown",
   "id": "edb35ac9-eac8-4759-a540-091f34c645a2",
   "metadata": {},
   "source": [
    "### Part 2"
   ]
  },
  {
   "cell_type": "code",
   "execution_count": 11,
   "id": "90a8104d-93e7-46f6-a95c-05bbd6de99e2",
   "metadata": {},
   "outputs": [],
   "source": [
    "timeSaved = []\n",
    "for tile in slowPath:\n",
    "    for dx in range(-20,21):\n",
    "        for dy in range(-20,21):\n",
    "            if abs(dx) + abs(dy) <= 20 and not dx == dy == 0:\n",
    "                nt = tile+(dx+dy*1j)\n",
    "                if nt in slowPath:\n",
    "                    if ps[nt] - ps[tile] >= abs(dx)+abs(dy) + 100:\n",
    "                        timeSaved.append((nt, tile))"
   ]
  },
  {
   "cell_type": "code",
   "execution_count": 12,
   "id": "8775264f-cb6f-42f9-be8a-65f34e1d7e3e",
   "metadata": {},
   "outputs": [
    {
     "data": {
      "text/plain": [
       "1026446"
      ]
     },
     "execution_count": 12,
     "metadata": {},
     "output_type": "execute_result"
    }
   ],
   "source": [
    "len(timeSaved)"
   ]
  }
 ],
 "metadata": {
  "kernelspec": {
   "display_name": "Python 3 (ipykernel)",
   "language": "python",
   "name": "python3"
  },
  "language_info": {
   "codemirror_mode": {
    "name": "ipython",
    "version": 3
   },
   "file_extension": ".py",
   "mimetype": "text/x-python",
   "name": "python",
   "nbconvert_exporter": "python",
   "pygments_lexer": "ipython3",
   "version": "3.10.14"
  }
 },
 "nbformat": 4,
 "nbformat_minor": 5
}
