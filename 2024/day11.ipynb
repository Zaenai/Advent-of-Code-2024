{
 "cells": [
  {
   "cell_type": "markdown",
   "id": "5bb6a7ff-6632-49d1-8f71-3837c8a8baf8",
   "metadata": {},
   "source": [
    "### Init"
   ]
  },
  {
   "cell_type": "code",
   "execution_count": 2,
   "id": "bee0183e-c338-42eb-a403-1fb8a6e44246",
   "metadata": {},
   "outputs": [],
   "source": [
    "import numpy as np\n",
    "from collections import defaultdict"
   ]
  },
  {
   "cell_type": "code",
   "execution_count": 3,
   "id": "61a07a6d-63bc-4f59-b575-9b6a85f8eace",
   "metadata": {},
   "outputs": [],
   "source": [
    "with open(\"../inputs/input11.txt\") as file: raw_data = file.read()\n",
    "data = np.asarray(raw_data.split(\" \"), dtype=int)\n",
    "tracker = defaultdict(int)\n",
    "for n in data:\n",
    "    tracker[n] = 1"
   ]
  },
  {
   "cell_type": "markdown",
   "id": "c0967758-78a0-4bd8-8be7-880bcc803a9a",
   "metadata": {},
   "source": [
    "### Custom Function(s)"
   ]
  },
  {
   "cell_type": "code",
   "execution_count": 5,
   "id": "ed933281-4830-4238-a3d1-86c8fda5a6d5",
   "metadata": {},
   "outputs": [],
   "source": [
    "def ApplyRules(tracker):\n",
    "    newTracker = defaultdict(int)\n",
    "    for num in tracker.keys():\n",
    "        if num == 0:    \n",
    "            newTracker[num+1] += tracker[num]\n",
    "            \n",
    "        elif (not len(str(num)) % 2):\n",
    "            N = len(str(num))\n",
    "            l,r = int(str(num)[:N//2]), int(str(num)[N//2:])\n",
    "            newTracker[l] += tracker[num]\n",
    "            newTracker[r] += tracker[num]\n",
    "            \n",
    "        else:\n",
    "            newTracker[int(num*2024.0)] += tracker[num]\n",
    "            \n",
    "    return newTracker"
   ]
  },
  {
   "cell_type": "markdown",
   "id": "347544fe-2508-4138-be9d-2014e5994cf0",
   "metadata": {},
   "source": [
    "### Part 1"
   ]
  },
  {
   "cell_type": "code",
   "execution_count": 7,
   "id": "6659e370-45e1-472c-9a26-9dd31a25492d",
   "metadata": {},
   "outputs": [],
   "source": [
    "for i in range(25):\n",
    "    tracker = ApplyRules(tracker)"
   ]
  },
  {
   "cell_type": "code",
   "execution_count": 8,
   "id": "ff477149-8f5f-4a78-ade0-d712602f7ec4",
   "metadata": {},
   "outputs": [
    {
     "data": {
      "text/plain": [
       "202019"
      ]
     },
     "execution_count": 8,
     "metadata": {},
     "output_type": "execute_result"
    }
   ],
   "source": [
    "cnt = 0\n",
    "for stone in tracker.values():\n",
    "    cnt += stone\n",
    "cnt"
   ]
  },
  {
   "attachments": {},
   "cell_type": "markdown",
   "id": "edb35ac9-eac8-4759-a540-091f34c645a2",
   "metadata": {},
   "source": [
    "### Part 2"
   ]
  },
  {
   "cell_type": "code",
   "execution_count": 10,
   "id": "90a8104d-93e7-46f6-a95c-05bbd6de99e2",
   "metadata": {},
   "outputs": [],
   "source": [
    "for i in range(50): # Run an additional 50 times to reach 75 total runs\n",
    "    tracker = ApplyRules(tracker)"
   ]
  },
  {
   "cell_type": "code",
   "execution_count": 11,
   "id": "5108fc8b-cdd6-40c7-adf3-a2097f251f26",
   "metadata": {},
   "outputs": [
    {
     "data": {
      "text/plain": [
       "239321955280205"
      ]
     },
     "execution_count": 11,
     "metadata": {},
     "output_type": "execute_result"
    }
   ],
   "source": [
    "cnt = 0\n",
    "for stone in tracker.values():\n",
    "    cnt += stone\n",
    "cnt"
   ]
  },
  {
   "cell_type": "code",
   "execution_count": null,
   "id": "3d46c763-ba47-4c4f-ad93-a2d95a9c8890",
   "metadata": {},
   "outputs": [],
   "source": []
  }
 ],
 "metadata": {
  "kernelspec": {
   "display_name": "Python 3 (ipykernel)",
   "language": "python",
   "name": "python3"
  },
  "language_info": {
   "codemirror_mode": {
    "name": "ipython",
    "version": 3
   },
   "file_extension": ".py",
   "mimetype": "text/x-python",
   "name": "python",
   "nbconvert_exporter": "python",
   "pygments_lexer": "ipython3",
   "version": "3.10.14"
  }
 },
 "nbformat": 4,
 "nbformat_minor": 5
}
