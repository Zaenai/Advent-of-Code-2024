{
 "cells": [
  {
   "cell_type": "markdown",
   "id": "5bb6a7ff-6632-49d1-8f71-3837c8a8baf8",
   "metadata": {},
   "source": [
    "### Init"
   ]
  },
  {
   "cell_type": "code",
   "execution_count": 2,
   "id": "bee0183e-c338-42eb-a403-1fb8a6e44246",
   "metadata": {},
   "outputs": [],
   "source": [
    "import numpy as np\n",
    "import re"
   ]
  },
  {
   "cell_type": "code",
   "execution_count": 3,
   "id": "61a07a6d-63bc-4f59-b575-9b6a85f8eace",
   "metadata": {},
   "outputs": [],
   "source": [
    "with open(\"../inputs/input13.txt\") as file: raw_data = file.read()\n",
    "ConvertToInt = lambda rd: list(map(int,re.findall(r\"[0-9]+\", rd)))\n",
    "dataBlocks = np.array([ConvertToInt(rd) for rd in raw_data.split(\"\\n\\n\")])"
   ]
  },
  {
   "cell_type": "markdown",
   "id": "c0967758-78a0-4bd8-8be7-880bcc803a9a",
   "metadata": {},
   "source": [
    "### Custom Function(s)"
   ]
  },
  {
   "cell_type": "code",
   "execution_count": 5,
   "id": "ed933281-4830-4238-a3d1-86c8fda5a6d5",
   "metadata": {},
   "outputs": [],
   "source": [
    "def SolveEquation(dataBlocks, offSet):\n",
    "    cnt = []\n",
    "    for i,dataBlock in enumerate(dataBlocks):\n",
    "        ax,bx,px = dataBlock[::2]\n",
    "        ay,by,py = dataBlock[1::2]\n",
    "        px += offSet\n",
    "        py += offSet\n",
    "        A = np.array([[ax, bx],[ay,by]])\n",
    "        B = np.array([px, py])\n",
    "        a,b = np.linalg.solve(A,B)\n",
    "        a,b = np.round(a, 3), np.round(b, 3)\n",
    "        if a.is_integer() and b.is_integer():\n",
    "            cnt.append(int(3*a))\n",
    "            cnt.append(int(b))\n",
    "    return cnt"
   ]
  },
  {
   "cell_type": "markdown",
   "id": "347544fe-2508-4138-be9d-2014e5994cf0",
   "metadata": {},
   "source": [
    "### Part 1"
   ]
  },
  {
   "cell_type": "code",
   "execution_count": 7,
   "id": "6659e370-45e1-472c-9a26-9dd31a25492d",
   "metadata": {},
   "outputs": [
    {
     "data": {
      "text/plain": [
       "39290"
      ]
     },
     "execution_count": 7,
     "metadata": {},
     "output_type": "execute_result"
    }
   ],
   "source": [
    "cnt = SolveEquation(dataBlocks, 0)\n",
    "sum(cnt)"
   ]
  },
  {
   "attachments": {},
   "cell_type": "markdown",
   "id": "edb35ac9-eac8-4759-a540-091f34c645a2",
   "metadata": {},
   "source": [
    "### Part 2"
   ]
  },
  {
   "cell_type": "code",
   "execution_count": 9,
   "id": "90a8104d-93e7-46f6-a95c-05bbd6de99e2",
   "metadata": {},
   "outputs": [
    {
     "data": {
      "text/plain": [
       "73458657399094"
      ]
     },
     "execution_count": 9,
     "metadata": {},
     "output_type": "execute_result"
    }
   ],
   "source": [
    "cnt = SolveEquation(dataBlocks, 10_000_000_000_000)\n",
    "sum(cnt)"
   ]
  },
  {
   "cell_type": "code",
   "execution_count": null,
   "id": "d33f2293-a27c-4ee3-a16c-8ac4450b1272",
   "metadata": {},
   "outputs": [],
   "source": []
  }
 ],
 "metadata": {
  "kernelspec": {
   "display_name": "Python 3 (ipykernel)",
   "language": "python",
   "name": "python3"
  },
  "language_info": {
   "codemirror_mode": {
    "name": "ipython",
    "version": 3
   },
   "file_extension": ".py",
   "mimetype": "text/x-python",
   "name": "python",
   "nbconvert_exporter": "python",
   "pygments_lexer": "ipython3",
   "version": "3.10.14"
  }
 },
 "nbformat": 4,
 "nbformat_minor": 5
}
