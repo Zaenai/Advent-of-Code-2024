{
 "cells": [
  {
   "cell_type": "markdown",
   "id": "5bb6a7ff-6632-49d1-8f71-3837c8a8baf8",
   "metadata": {},
   "source": [
    "### Init"
   ]
  },
  {
   "cell_type": "code",
   "execution_count": 2,
   "id": "bee0183e-c338-42eb-a403-1fb8a6e44246",
   "metadata": {},
   "outputs": [],
   "source": [
    "import numpy as np"
   ]
  },
  {
   "cell_type": "code",
   "execution_count": 3,
   "id": "61a07a6d-63bc-4f59-b575-9b6a85f8eace",
   "metadata": {},
   "outputs": [],
   "source": [
    "data = np.loadtxt(\"inputs/input01.txt\", dtype=int)\n",
    "#data = np.loadtxt(\"input01_test.txt\", dtype=int) # Test set"
   ]
  },
  {
   "cell_type": "markdown",
   "id": "347544fe-2508-4138-be9d-2014e5994cf0",
   "metadata": {},
   "source": [
    "### Part 1"
   ]
  },
  {
   "cell_type": "code",
   "execution_count": 5,
   "id": "6659e370-45e1-472c-9a26-9dd31a25492d",
   "metadata": {},
   "outputs": [
    {
     "data": {
      "text/plain": [
       "2086478"
      ]
     },
     "execution_count": 5,
     "metadata": {},
     "output_type": "execute_result"
    }
   ],
   "source": [
    "s_data = np.sort(data.T)\n",
    "np.sum(np.abs(np.diff(s_data.T))) # Part 1"
   ]
  },
  {
   "cell_type": "markdown",
   "id": "812f033b-318d-4a0a-9358-9641ff30b22d",
   "metadata": {},
   "source": [
    "### Part 2"
   ]
  },
  {
   "cell_type": "code",
   "execution_count": 7,
   "id": "dcbe504a-9f0a-45a5-8fb3-a5abe958eb3f",
   "metadata": {},
   "outputs": [],
   "source": [
    "left, right = s_data\n",
    "count = {}"
   ]
  },
  {
   "cell_type": "code",
   "execution_count": 8,
   "id": "3faee5d5-44de-471d-90f8-5e9d7d4132e1",
   "metadata": {},
   "outputs": [],
   "source": [
    "for l in left:\n",
    "    for r in right:\n",
    "        if l==r:\n",
    "            if l in count:\n",
    "                count[l] += l\n",
    "            else:\n",
    "                count[l] = l"
   ]
  },
  {
   "cell_type": "code",
   "execution_count": 9,
   "id": "e80bbfda-969d-4361-a54f-ea3def277d93",
   "metadata": {},
   "outputs": [
    {
     "data": {
      "text/plain": [
       "24941624"
      ]
     },
     "execution_count": 9,
     "metadata": {},
     "output_type": "execute_result"
    }
   ],
   "source": [
    "sum(list(count.values())) "
   ]
  }
 ],
 "metadata": {
  "kernelspec": {
   "display_name": "Python 3 (ipykernel)",
   "language": "python",
   "name": "python3"
  },
  "language_info": {
   "codemirror_mode": {
    "name": "ipython",
    "version": 3
   },
   "file_extension": ".py",
   "mimetype": "text/x-python",
   "name": "python",
   "nbconvert_exporter": "python",
   "pygments_lexer": "ipython3",
   "version": "3.10.14"
  }
 },
 "nbformat": 4,
 "nbformat_minor": 5
}
