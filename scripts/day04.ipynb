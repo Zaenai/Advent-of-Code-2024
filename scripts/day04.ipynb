{
 "cells": [
  {
   "cell_type": "markdown",
   "id": "5bb6a7ff-6632-49d1-8f71-3837c8a8baf8",
   "metadata": {},
   "source": [
    "### Init"
   ]
  },
  {
   "cell_type": "code",
   "execution_count": 2,
   "id": "bee0183e-c338-42eb-a403-1fb8a6e44246",
   "metadata": {},
   "outputs": [],
   "source": [
    "import numpy as np"
   ]
  },
  {
   "cell_type": "code",
   "execution_count": 3,
   "id": "61a07a6d-63bc-4f59-b575-9b6a85f8eace",
   "metadata": {},
   "outputs": [],
   "source": [
    "with open(\"../inputs/input04.txt\") as file: raw_data = file.read()\n",
    "data = raw_data.split(\"\\n\")\n",
    "data = np.array([list(d) for d in data])"
   ]
  },
  {
   "cell_type": "markdown",
   "id": "1dc2b2c1-5ba1-4eb6-85b0-6423a976b0f0",
   "metadata": {},
   "source": [
    "### Custom function(s)"
   ]
  },
  {
   "cell_type": "code",
   "execution_count": 5,
   "id": "eac75920-4997-4ef8-81cb-7651e1141285",
   "metadata": {},
   "outputs": [],
   "source": [
    "def CheckCorners(x,y):\n",
    "    if (d[x,y] == \"M\") and (d[x,y+2]  == \"M\"):\n",
    "        if (d[x+2,y] == \"S\") and (d[x+2,y+2] == \"S\"):\n",
    "            return True\n",
    "    return False"
   ]
  },
  {
   "cell_type": "markdown",
   "id": "347544fe-2508-4138-be9d-2014e5994cf0",
   "metadata": {},
   "source": [
    "### Part 1"
   ]
  },
  {
   "cell_type": "code",
   "execution_count": 7,
   "id": "6659e370-45e1-472c-9a26-9dd31a25492d",
   "metadata": {},
   "outputs": [
    {
     "name": "stdout",
     "output_type": "stream",
     "text": [
      "2500\n"
     ]
    }
   ],
   "source": [
    "cnt = 0\n",
    "w = np.max(np.shape(data))\n",
    "d = np.rot90(data, 1)\n",
    "\n",
    "# Diagonal sweeps\n",
    "for i in range(-w,w):\n",
    "    cnt += \"\".join(np.diagonal(data,i)).count(\"XMAS\")\n",
    "    cnt += \"\".join(np.diagonal(data,i)).count(\"SAMX\")\n",
    "    cnt += \"\".join(np.diagonal(d,i)).count(\"XMAS\")\n",
    "    cnt += \"\".join(np.diagonal(d,i)).count(\"SAMX\")\n",
    "\n",
    "# Row sweep & column swdep\n",
    "for line in data:\n",
    "    cnt += \"\".join(line).count(\"XMAS\")\n",
    "    cnt += \"\".join(line).count(\"SAMX\")\n",
    "for line in d:\n",
    "    cnt += \"\".join(line).count(\"XMAS\")\n",
    "    cnt += \"\".join(line).count(\"SAMX\")\n",
    "\n",
    "print(cnt)"
   ]
  },
  {
   "attachments": {
    "9b209129-8b4d-4129-883d-e3f9cbc1fe6f.png": {
     "image/png": "[encoded data removed]"
    },
    "aaac019c-f71b-4570-87c6-f5273d0ed2ce.png": {
     "image/png": "[encoded data removed]"
    }
   },
   "cell_type": "markdown",
   "id": "edb35ac9-eac8-4759-a540-091f34c645a2",
   "metadata": {},
   "source": [
    "### Part 2\n",
    "By spending a bit of time staring at the X-Mas, one will realise that there will always be an 'A' in the middle, flanked by two S on one side, and two M on the other. Two 'M' (and likewise for any 'S') can not be diagonal from one another of the same type, since this would invalidate one of the spellings.\n",
    "\n",
    "![image.png](attachment:9b209129-8b4d-4129-883d-e3f9cbc1fe6f.png) <-- Valid   \n",
    "Invalid --> ![{9D609B0E-54A2-4093-89A1-F0DF0641B47E}.png](attachment:aaac019c-f71b-4570-87c6-f5273d0ed2ce.png)"
   ]
  },
  {
   "cell_type": "code",
   "execution_count": 9,
   "id": "a2efe667-12cc-44cb-b058-8cf99de6b6eb",
   "metadata": {},
   "outputs": [
    {
     "name": "stdout",
     "output_type": "stream",
     "text": [
      "1933\n"
     ]
    }
   ],
   "source": [
    "cnt = 0\n",
    "for i in range(4):\n",
    "    d = np.rot90(data,i)\n",
    "    X,Y = np.where(d[1:-1,1:-1] == \"A\")\n",
    "    for x,y in zip(X,Y):\n",
    "        if CheckCorners(x,y):\n",
    "            cnt += 1\n",
    "\n",
    "print(cnt)"
   ]
  },
  {
   "cell_type": "code",
   "execution_count": null,
   "id": "1c1fbbab-4269-495d-8651-279ccc79994f",
   "metadata": {},
   "outputs": [],
   "source": []
  }
 ],
 "metadata": {
  "kernelspec": {
   "display_name": "Python 3 (ipykernel)",
   "language": "python",
   "name": "python3"
  },
  "language_info": {
   "codemirror_mode": {
    "name": "ipython",
    "version": 3
   },
   "file_extension": ".py",
   "mimetype": "text/x-python",
   "name": "python",
   "nbconvert_exporter": "python",
   "pygments_lexer": "ipython3",
   "version": "3.10.14"
  }
 },
 "nbformat": 4,
 "nbformat_minor": 5
}
