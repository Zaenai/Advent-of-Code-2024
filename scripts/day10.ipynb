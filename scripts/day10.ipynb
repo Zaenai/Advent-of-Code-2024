{
 "cells": [
  {
   "cell_type": "markdown",
   "id": "5bb6a7ff-6632-49d1-8f71-3837c8a8baf8",
   "metadata": {},
   "source": [
    "### Init"
   ]
  },
  {
   "cell_type": "code",
   "execution_count": 2,
   "id": "bee0183e-c338-42eb-a403-1fb8a6e44246",
   "metadata": {},
   "outputs": [],
   "source": [
    "import numpy as np"
   ]
  },
  {
   "cell_type": "code",
   "execution_count": 3,
   "id": "61a07a6d-63bc-4f59-b575-9b6a85f8eace",
   "metadata": {},
   "outputs": [],
   "source": [
    "with open(\"../inputs/input10.txt\") as file: raw_data = file.read()\n",
    "raw_data = [list(rd) for rd in raw_data.split(\"\\n\")]\n",
    "data = np.asarray(raw_data, dtype=int)\n",
    "data = np.pad(data, ((1, 1), (1, 1)), 'constant', constant_values = -1)"
   ]
  },
  {
   "cell_type": "markdown",
   "id": "c0967758-78a0-4bd8-8be7-880bcc803a9a",
   "metadata": {},
   "source": [
    "### Custom Function(s)"
   ]
  },
  {
   "cell_type": "code",
   "execution_count": 5,
   "id": "ed933281-4830-4238-a3d1-86c8fda5a6d5",
   "metadata": {},
   "outputs": [],
   "source": [
    "class Tile:\n",
    "    def __init__(self, _x, _y, _val):\n",
    "        self.x = _x\n",
    "        self.y = _y\n",
    "        self.val = _val\n",
    "        self.neighbours = []\n",
    "        self.origins = []\n",
    "        self.ends = []\n",
    "\n",
    "    def __repr__(self):\n",
    "        return str(self.val)\n",
    "\n",
    "    def FindValidNeighbours(self, grid):\n",
    "        for i in range(-1, 2):\n",
    "            for j in range(-1, 2):\n",
    "                if abs(i+j) == 1:\n",
    "                    try:\n",
    "                        neighbour = grid[self.x+i, self.y+j]\n",
    "                        if neighbour.val == (self.val + 1):\n",
    "                            self.neighbours.append(neighbour)\n",
    "                    except:\n",
    "                        continue\n",
    "                        \n",
    "\n",
    "def DFS_FindRatings(graph, node):\n",
    "    cnt = 0\n",
    "    S, discovered = [], []\n",
    "    S.append(node)\n",
    "    while S:\n",
    "        v = S.pop(-1)\n",
    "        if v not in discovered:\n",
    "            discovered.append(v)\n",
    "            \n",
    "            if v.val == 9:\n",
    "                cnt += 1\n",
    "            else:\n",
    "                for neighbour in v.neighbours: \n",
    "                    S.append(neighbour)\n",
    "                    \n",
    "    return cnt\n",
    "\n",
    "def DFS_FindPaths(graph, node):\n",
    "    paths = []\n",
    "\n",
    "    def DFS_Helper(node, path, discovered):\n",
    "        path.append(node)\n",
    "        discovered.append(node)\n",
    "\n",
    "        if node.val == 9:\n",
    "            paths.append(path.copy())\n",
    "        else:\n",
    "            for neighbour in node.neighbours:\n",
    "                if neighbour not in discovered:\n",
    "                    DFS_Helper(neighbour, path, discovered)\n",
    "                    \n",
    "        path.pop()\n",
    "        discovered.pop()\n",
    "\n",
    "    DFS_Helper(node, [], [])\n",
    "    return paths"
   ]
  },
  {
   "cell_type": "markdown",
   "id": "347544fe-2508-4138-be9d-2014e5994cf0",
   "metadata": {},
   "source": [
    "### Part 1"
   ]
  },
  {
   "cell_type": "code",
   "execution_count": 7,
   "id": "6659e370-45e1-472c-9a26-9dd31a25492d",
   "metadata": {},
   "outputs": [],
   "source": [
    "grid = np.empty((np.shape(data)), dtype=object)\n",
    "\n",
    "for x,row in enumerate(data):\n",
    "    for y,col in enumerate(row):\n",
    "        grid[x,y] = Tile(x, y, int(data[x,y]))    \n",
    "        \n",
    "for x,row in enumerate(data):\n",
    "    for y,col in enumerate(row):\n",
    "        grid[x,y].FindValidNeighbours(grid)  "
   ]
  },
  {
   "cell_type": "code",
   "execution_count": 8,
   "id": "ff477149-8f5f-4a78-ade0-d712602f7ec4",
   "metadata": {},
   "outputs": [
    {
     "name": "stdout",
     "output_type": "stream",
     "text": [
      "Part 1: 746\n"
     ]
    }
   ],
   "source": [
    "Xs, Ys = np.where(data == 0)\n",
    "cnt = 0\n",
    "for x,y in zip(Xs,Ys):\n",
    "    cnt += DFS_FindRatings(grid, grid[x,y])\n",
    "print(f\"Part 1: {cnt}\")"
   ]
  },
  {
   "attachments": {},
   "cell_type": "markdown",
   "id": "edb35ac9-eac8-4759-a540-091f34c645a2",
   "metadata": {},
   "source": [
    "### Part 2"
   ]
  },
  {
   "cell_type": "code",
   "execution_count": 10,
   "id": "90a8104d-93e7-46f6-a95c-05bbd6de99e2",
   "metadata": {},
   "outputs": [
    {
     "name": "stdout",
     "output_type": "stream",
     "text": [
      "Part 2: 1541\n"
     ]
    }
   ],
   "source": [
    "Xs, Ys = np.where(data == 0)\n",
    "numPaths = 0\n",
    "for x,y in zip(Xs,Ys):\n",
    "    paths = DFS_FindPaths(grid, grid[x,y])\n",
    "    numPaths += len(paths)\n",
    "print(f\"Part 2: {numPaths}\")"
   ]
  },
  {
   "cell_type": "markdown",
   "id": "3d9cb651-d703-41ab-8801-f9300284cab6",
   "metadata": {},
   "source": [
    "### Bonus"
   ]
  },
  {
   "cell_type": "code",
   "execution_count": 95,
   "id": "2172cabd-141e-4c59-bd49-296c9d9a3e87",
   "metadata": {},
   "outputs": [
    {
     "data": {
      "text/plain": [
       "<matplotlib.image.AxesImage at 0x2436ddf5a80>"
      ]
     },
     "execution_count": 95,
     "metadata": {},
     "output_type": "execute_result"
    },
    {
     "data": {
      "image/png": "[encoded data removed]",
      "text/plain": [
       "<Figure size 640x480 with 1 Axes>"
      ]
     },
     "metadata": {},
     "output_type": "display_data"
    }
   ],
   "source": [
    "import matplotlib.pyplot as plt\n",
    "plotgrid = np.zeros((grid.shape[0],grid.shape[1]))\n",
    "for i,r in enumerate(grid):\n",
    "    for j,c in enumerate(r):\n",
    "        plotgrid[i,j] = grid[i,j].val\n",
    "plt.imshow(plotgrid[1:-1,1:-1],cmap=\"gray\")"
   ]
  },
  {
   "cell_type": "code",
   "execution_count": null,
   "id": "249a4de5-41df-4eeb-96d6-825c4df54377",
   "metadata": {},
   "outputs": [],
   "source": []
  }
 ],
 "metadata": {
  "kernelspec": {
   "display_name": "Python 3 (ipykernel)",
   "language": "python",
   "name": "python3"
  },
  "language_info": {
   "codemirror_mode": {
    "name": "ipython",
    "version": 3
   },
   "file_extension": ".py",
   "mimetype": "text/x-python",
   "name": "python",
   "nbconvert_exporter": "python",
   "pygments_lexer": "ipython3",
   "version": "3.10.14"
  }
 },
 "nbformat": 4,
 "nbformat_minor": 5
}
