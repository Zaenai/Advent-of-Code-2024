{
 "cells": [
  {
   "cell_type": "markdown",
   "id": "5bb6a7ff-6632-49d1-8f71-3837c8a8baf8",
   "metadata": {},
   "source": [
    "### Init"
   ]
  },
  {
   "cell_type": "code",
   "execution_count": 2,
   "id": "bee0183e-c338-42eb-a403-1fb8a6e44246",
   "metadata": {},
   "outputs": [],
   "source": [
    "import numpy as np"
   ]
  },
  {
   "cell_type": "code",
   "execution_count": 3,
   "id": "61a07a6d-63bc-4f59-b575-9b6a85f8eace",
   "metadata": {},
   "outputs": [],
   "source": [
    "with open(\"../inputs/input02.txt\") as file: raw_data = file.read()\n",
    "#with open(\"../inputs/input02_test.txt\") as file: raw_data = file.read()"
   ]
  },
  {
   "cell_type": "markdown",
   "id": "f0fc9f2a-a936-4d41-83a9-63425fa8f403",
   "metadata": {},
   "source": [
    "### Custom function(s)"
   ]
  },
  {
   "cell_type": "code",
   "execution_count": 5,
   "id": "ce845dc0-44eb-4914-ad70-f5cb980177b3",
   "metadata": {},
   "outputs": [],
   "source": [
    "def LevelIsValid(line):\n",
    "    \n",
    "    # If the array is always either decreasing or increasing (strictly monotonic), then it is by definition sorted.\n",
    "    # Check against sorted and reverse-sort for an easy fail-pass.\n",
    "    if np.all(np.sort(line) == line) or np.all(np.sort(line)[::-1] == line):\n",
    "        \n",
    "        # If array is found to be monotonic, check if there is any gap larger than 3 or smaller than 1.\n",
    "        if np.max(np.abs(np.diff(line))) <= 3 and np.min(np.abs(np.diff(line))) >= 1:\n",
    "            return True\n",
    "            \n",
    "    return False    "
   ]
  },
  {
   "cell_type": "markdown",
   "id": "347544fe-2508-4138-be9d-2014e5994cf0",
   "metadata": {},
   "source": [
    "### Part 1"
   ]
  },
  {
   "cell_type": "code",
   "execution_count": 7,
   "id": "6659e370-45e1-472c-9a26-9dd31a25492d",
   "metadata": {},
   "outputs": [],
   "source": [
    "data = []\n",
    "for line in raw_data.split(\"\\n\"):\n",
    "    data.append(list(map(int,line.split(\" \"))))"
   ]
  },
  {
   "cell_type": "code",
   "execution_count": 8,
   "id": "dcbe504a-9f0a-45a5-8fb3-a5abe958eb3f",
   "metadata": {},
   "outputs": [
    {
     "name": "stdout",
     "output_type": "stream",
     "text": [
      "463\n"
     ]
    }
   ],
   "source": [
    "cnt = 0\n",
    "for line in data:\n",
    "    if LevelIsValid(line):\n",
    "        cnt += 1\n",
    "        \n",
    "print(cnt)"
   ]
  },
  {
   "cell_type": "markdown",
   "id": "2258dd4f-eab9-4d0e-bf76-e49c8b295025",
   "metadata": {},
   "source": [
    "### Part 2"
   ]
  },
  {
   "cell_type": "code",
   "execution_count": 10,
   "id": "e80bbfda-969d-4361-a54f-ea3def277d93",
   "metadata": {},
   "outputs": [
    {
     "name": "stdout",
     "output_type": "stream",
     "text": [
      "514\n"
     ]
    }
   ],
   "source": [
    "cnt = 0\n",
    "for line in data:\n",
    "    if LevelIsValid(line):\n",
    "        cnt += 1\n",
    "        continue\n",
    "\n",
    "    # Now iterate through each number in the arrays that fail the first pass.\n",
    "    # Rerunning the rules on them again on a number-by-number case, break out of loop if valid set is found\n",
    "    # to reduce computation/time cost.\n",
    "    for num in range(len(line)):\n",
    "        new_line = np.delete(line, num)\n",
    "        if LevelIsValid(new_line):\n",
    "            cnt += 1\n",
    "            break\n",
    "        \n",
    "print(cnt)"
   ]
  }
 ],
 "metadata": {
  "kernelspec": {
   "display_name": "Python 3 (ipykernel)",
   "language": "python",
   "name": "python3"
  },
  "language_info": {
   "codemirror_mode": {
    "name": "ipython",
    "version": 3
   },
   "file_extension": ".py",
   "mimetype": "text/x-python",
   "name": "python",
   "nbconvert_exporter": "python",
   "pygments_lexer": "ipython3",
   "version": "3.10.14"
  }
 },
 "nbformat": 4,
 "nbformat_minor": 5
}
