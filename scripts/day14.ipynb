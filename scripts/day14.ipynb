{
 "cells": [
  {
   "cell_type": "markdown",
   "id": "5bb6a7ff-6632-49d1-8f71-3837c8a8baf8",
   "metadata": {},
   "source": [
    "### Init"
   ]
  },
  {
   "cell_type": "code",
   "execution_count": 2,
   "id": "bee0183e-c338-42eb-a403-1fb8a6e44246",
   "metadata": {},
   "outputs": [],
   "source": [
    "import numpy as np\n",
    "import re\n",
    "import matplotlib.pyplot as plt"
   ]
  },
  {
   "cell_type": "code",
   "execution_count": 3,
   "id": "61a07a6d-63bc-4f59-b575-9b6a85f8eace",
   "metadata": {},
   "outputs": [],
   "source": [
    "with open(\"../inputs/input14.txt\") as file: raw_data = file.read()\n",
    "ConvertToInt = lambda rd: list(map(int,re.findall(r\"-*[0-9]+\", rd)))\n",
    "robotData = np.array([ConvertToInt(rd) for rd in raw_data.split(\"\\n\")])"
   ]
  },
  {
   "cell_type": "markdown",
   "id": "c0967758-78a0-4bd8-8be7-880bcc803a9a",
   "metadata": {},
   "source": [
    "### Custom Function(s)"
   ]
  },
  {
   "cell_type": "code",
   "execution_count": 5,
   "id": "ed933281-4830-4238-a3d1-86c8fda5a6d5",
   "metadata": {},
   "outputs": [],
   "source": [
    "class Robot:\n",
    "    def __init__(self, _pos, _vel, _id):\n",
    "        self.pos = _pos\n",
    "        self.vel = _vel\n",
    "        self.id = _id\n",
    "        self.width = 101 # 11 or 101\n",
    "        self.height = 103 # 7 or 103\n",
    "\n",
    "    def __repr__(self):\n",
    "        return str(self.pos)\n",
    "\n",
    "    def Move(self):\n",
    "        self.pos += self.vel\n",
    "        numReal, numImag = self.pos.real, self.pos.imag\n",
    "        numReal = numReal % self.width\n",
    "        numImag = numImag % self.height\n",
    "        self.pos = numReal + numImag*1j\n",
    "\n",
    "    def FindQuadrant(self):\n",
    "        numReal, numImag = self.pos.real, self.pos.imag\n",
    "        if (numReal == (self.width-1)/2) or (numImag == (self.height-1)/2):\n",
    "            return \"Mid\"\n",
    "        else:\n",
    "            quadScore = 0\n",
    "            if numReal < (self.width-1)/2:\n",
    "                if numImag < (self.height-1)/2:\n",
    "                    return \"NW\"\n",
    "                else:\n",
    "                    return \"SW\"\n",
    "            else:\n",
    "                if numImag < (self.height-1)/2:\n",
    "                    return \"NE\"\n",
    "                else:\n",
    "                    return \"SE\"\n",
    "\n",
    "def PlotRobots(Robots):\n",
    "    grid = np.zeros((103, 101))\n",
    "    for idx in range(len(Robots)):\n",
    "        posx = int(Robots[idx].pos.real)\n",
    "        posy = int(Robots[idx].pos.imag)\n",
    "        grid[posy, posx] = 1\n",
    "    return grid"
   ]
  },
  {
   "cell_type": "markdown",
   "id": "347544fe-2508-4138-be9d-2014e5994cf0",
   "metadata": {},
   "source": [
    "### Part 1"
   ]
  },
  {
   "cell_type": "code",
   "execution_count": 7,
   "id": "6659e370-45e1-472c-9a26-9dd31a25492d",
   "metadata": {},
   "outputs": [],
   "source": [
    "Robots, Quadrants = {},{\"Mid\":0, \"NW\":0, \"SW\":0, \"NE\":0, \"SE\":0}\n",
    "for idx,metaData in enumerate(robotData):\n",
    "    position = metaData[0] + metaData[1]*1j\n",
    "    velocity = metaData[2] + metaData[3]*1j\n",
    "    Robots[idx] = Robot(position, velocity, idx)\n"
   ]
  },
  {
   "cell_type": "code",
   "execution_count": 8,
   "id": "2e453131-41fa-4871-b602-884e42a11ab4",
   "metadata": {},
   "outputs": [],
   "source": [
    "for _ in range(100):\n",
    "    for idx in range(len(Robots)):\n",
    "        Robots[idx].Move()"
   ]
  },
  {
   "cell_type": "code",
   "execution_count": 9,
   "id": "fc31ff4c-05b3-4aa3-8d76-7653be8257d1",
   "metadata": {},
   "outputs": [
    {
     "data": {
      "text/plain": [
       "215476074"
      ]
     },
     "execution_count": 9,
     "metadata": {},
     "output_type": "execute_result"
    }
   ],
   "source": [
    "cnt = 1\n",
    "\n",
    "for idx in range(len(Robots)):\n",
    "    Quadrants[Robots[idx].FindQuadrant()] += 1\n",
    "\n",
    "for k,v in Quadrants.items():\n",
    "    if k != \"Mid\":\n",
    "        cnt *= v\n",
    "cnt"
   ]
  },
  {
   "attachments": {},
   "cell_type": "markdown",
   "id": "edb35ac9-eac8-4759-a540-091f34c645a2",
   "metadata": {},
   "source": [
    "### Part 2"
   ]
  },
  {
   "cell_type": "code",
   "execution_count": 11,
   "id": "90a8104d-93e7-46f6-a95c-05bbd6de99e2",
   "metadata": {},
   "outputs": [
    {
     "name": "stdout",
     "output_type": "stream",
     "text": [
      "6285\n"
     ]
    },
    {
     "data": {
      "text/plain": [
       "<matplotlib.image.AxesImage at 0x24184290f10>"
      ]
     },
     "execution_count": 11,
     "metadata": {},
     "output_type": "execute_result"
    },
    {
     "data": {
      "image/png": "[encoded data removed]",
      "text/plain": [
       "<Figure size 640x480 with 1 Axes>"
      ]
     },
     "metadata": {},
     "output_type": "display_data"
    }
   ],
   "source": [
    "Robots, Quadrants = {},{\"Mid\":0, \"NW\":0, \"SW\":0, \"NE\":0, \"SE\":0}\n",
    "for idx,metaData in enumerate(robotData):\n",
    "    position = metaData[0] + metaData[1]*1j\n",
    "    velocity = metaData[2] + metaData[3]*1j\n",
    "    Robots[idx] = Robot(position, velocity, idx)\n",
    "Tracker = {}\n",
    "# [ 2, 105, ...] horizontal bar, cyclic at 2  + 103x\n",
    "# [23, 124, ...] vertical   bar, cyclic at 23 + 101x\n",
    "# The above sequences happen to lin up at x = 61, due to 23 + 101*(x+1) = 2 + 103*, add 1 due to python 0-indexing.\n",
    "for iteration in range(2+103*61): # 10404-cycle as hard upper limit\n",
    "    for idx in range(len(Robots)):\n",
    "        Robots[idx].Move()\n",
    "\n",
    "print(2+103*61)\n",
    "grid = PlotRobots(Robots)\n",
    "plt.imshow(grid)"
   ]
  },
  {
   "cell_type": "code",
   "execution_count": null,
   "id": "655d4e04-1cf9-41b5-81f3-6518357cc6a8",
   "metadata": {},
   "outputs": [],
   "source": []
  }
 ],
 "metadata": {
  "kernelspec": {
   "display_name": "Python 3 (ipykernel)",
   "language": "python",
   "name": "python3"
  },
  "language_info": {
   "codemirror_mode": {
    "name": "ipython",
    "version": 3
   },
   "file_extension": ".py",
   "mimetype": "text/x-python",
   "name": "python",
   "nbconvert_exporter": "python",
   "pygments_lexer": "ipython3",
   "version": "3.10.14"
  }
 },
 "nbformat": 4,
 "nbformat_minor": 5
}
