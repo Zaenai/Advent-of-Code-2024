{
 "cells": [
  {
   "cell_type": "markdown",
   "id": "5bb6a7ff-6632-49d1-8f71-3837c8a8baf8",
   "metadata": {},
   "source": [
    "### Init"
   ]
  },
  {
   "cell_type": "code",
   "execution_count": 2,
   "id": "bee0183e-c338-42eb-a403-1fb8a6e44246",
   "metadata": {},
   "outputs": [],
   "source": [
    "import numpy as np"
   ]
  },
  {
   "cell_type": "code",
   "execution_count": 3,
   "id": "61a07a6d-63bc-4f59-b575-9b6a85f8eace",
   "metadata": {},
   "outputs": [],
   "source": [
    "with open(\"../inputs/input07.txt\") as file: raw_data = file.read()\n",
    "raw_data = raw_data.split(\"\\n\")"
   ]
  },
  {
   "cell_type": "markdown",
   "id": "1dc2b2c1-5ba1-4eb6-85b0-6423a976b0f0",
   "metadata": {},
   "source": [
    "### Preprocessing"
   ]
  },
  {
   "cell_type": "code",
   "execution_count": 5,
   "id": "eac75920-4997-4ef8-81cb-7651e1141285",
   "metadata": {},
   "outputs": [],
   "source": [
    "data = [d.split(\": \") for d in raw_data]\n",
    "targets = [int(target[0]) for target in data]\n",
    "values = [list(map(int,target[1].split())) for target in data]"
   ]
  },
  {
   "cell_type": "markdown",
   "id": "c0967758-78a0-4bd8-8be7-880bcc803a9a",
   "metadata": {},
   "source": [
    "### Custom Function(s)"
   ]
  },
  {
   "cell_type": "code",
   "execution_count": 7,
   "id": "ed933281-4830-4238-a3d1-86c8fda5a6d5",
   "metadata": {},
   "outputs": [],
   "source": [
    "def RecursiveSolution(vals, target, isPart2):\n",
    "    # Base case\n",
    "    if len(vals) <= 1:\n",
    "        if vals[0] == target:\n",
    "            return 1\n",
    "    else:\n",
    "        # Branch on each mathemathical operator, but make sure precedence is not applied.\n",
    "        # Do this by only interacting with first two array elements and save it to the first index (second index if indexing by 1).\n",
    "        vals1 = vals.copy()\n",
    "        vals2 = vals.copy() \n",
    "        vals1[1] = vals[0] + vals[1]\n",
    "        vals2[1] = vals[0] * vals[1]\n",
    "        \n",
    "        branch1 = RecursiveSolution(vals1[1:], target, isPart2)\n",
    "        branch2 = RecursiveSolution(vals2[1:], target, isPart2)\n",
    "        if isPart2:\n",
    "            vals3 = vals.copy()\n",
    "            vals3[1] = int(str(vals[0]) + str(vals[1])) \n",
    "            branch3 = RecursiveSolution(vals3[1:], target, isPart2)\n",
    "        else:\n",
    "            branch3 = False\n",
    "        \n",
    "        if branch1 or branch2 or branch3:\n",
    "            return 1        "
   ]
  },
  {
   "cell_type": "markdown",
   "id": "347544fe-2508-4138-be9d-2014e5994cf0",
   "metadata": {},
   "source": [
    "### Part 1"
   ]
  },
  {
   "cell_type": "code",
   "execution_count": 9,
   "id": "6659e370-45e1-472c-9a26-9dd31a25492d",
   "metadata": {},
   "outputs": [
    {
     "data": {
      "text/plain": [
       "2437272016585"
      ]
     },
     "execution_count": 9,
     "metadata": {},
     "output_type": "execute_result"
    }
   ],
   "source": [
    "calibration = []\n",
    "for vals,target in zip(values,targets):\n",
    "    if RecursiveSolution(vals, target, False):\n",
    "        calibration.append(target)\n",
    "sum(calibration)"
   ]
  },
  {
   "attachments": {},
   "cell_type": "markdown",
   "id": "edb35ac9-eac8-4759-a540-091f34c645a2",
   "metadata": {},
   "source": [
    "### Part 2"
   ]
  },
  {
   "cell_type": "code",
   "execution_count": 11,
   "id": "90a8104d-93e7-46f6-a95c-05bbd6de99e2",
   "metadata": {},
   "outputs": [
    {
     "data": {
      "text/plain": [
       "162987117690649"
      ]
     },
     "execution_count": 11,
     "metadata": {},
     "output_type": "execute_result"
    }
   ],
   "source": [
    "calibration = []\n",
    "for vals,target in zip(values,targets):\n",
    "    if RecursiveSolution(vals, target, True):\n",
    "        calibration.append(target)\n",
    "sum(calibration)"
   ]
  },
  {
   "cell_type": "code",
   "execution_count": null,
   "id": "75e53feb-b8c5-4482-af8a-e60f32b8a432",
   "metadata": {},
   "outputs": [],
   "source": []
  }
 ],
 "metadata": {
  "kernelspec": {
   "display_name": "Python 3 (ipykernel)",
   "language": "python",
   "name": "python3"
  },
  "language_info": {
   "codemirror_mode": {
    "name": "ipython",
    "version": 3
   },
   "file_extension": ".py",
   "mimetype": "text/x-python",
   "name": "python",
   "nbconvert_exporter": "python",
   "pygments_lexer": "ipython3",
   "version": "3.10.14"
  }
 },
 "nbformat": 4,
 "nbformat_minor": 5
}
