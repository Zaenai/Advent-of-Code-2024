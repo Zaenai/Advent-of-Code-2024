{
 "cells": [
  {
   "cell_type": "markdown",
   "id": "5bb6a7ff-6632-49d1-8f71-3837c8a8baf8",
   "metadata": {},
   "source": [
    "### Init"
   ]
  },
  {
   "cell_type": "code",
   "execution_count": 2,
   "id": "bee0183e-c338-42eb-a403-1fb8a6e44246",
   "metadata": {},
   "outputs": [],
   "source": [
    "import numpy as np\n",
    "from collections import defaultdict\n",
    "import string"
   ]
  },
  {
   "cell_type": "code",
   "execution_count": 3,
   "id": "61a07a6d-63bc-4f59-b575-9b6a85f8eace",
   "metadata": {},
   "outputs": [],
   "source": [
    "with open(\"../inputs/input12.txt\") as file: raw_data = file.read()\n",
    "data = np.asarray([list(d) for d in raw_data.split(\"\\n\")], dtype=str)\n",
    "temp_grid = np.pad(data, ((1,1),(1,1)), 'constant', constant_values = \".\")\n",
    "grid = np.empty((np.shape(temp_grid)), dtype=object)"
   ]
  },
  {
   "cell_type": "markdown",
   "id": "c0967758-78a0-4bd8-8be7-880bcc803a9a",
   "metadata": {},
   "source": [
    "### Custom Function(s)"
   ]
  },
  {
   "cell_type": "code",
   "execution_count": 5,
   "id": "ed933281-4830-4238-a3d1-86c8fda5a6d5",
   "metadata": {},
   "outputs": [],
   "source": [
    "class Tile:\n",
    "    def __init__(self, _x, _y, _val):\n",
    "        self.x = _x\n",
    "        self.y = _y\n",
    "        self.val = _val\n",
    "        self.neighbours = []\n",
    "        self.isAvailable = True\n",
    "        self.sides = 4\n",
    "\n",
    "    def __repr__(self):\n",
    "        return str(self.val)\n",
    "\n",
    "    def FindValidNeighbours(self, grid):\n",
    "        for i in range(-1, 2):\n",
    "            for j in range(-1, 2):\n",
    "                if abs(i+j) == 1:\n",
    "                    neighbour = grid[self.x+i, self.y+j]\n",
    "                    if neighbour.val == self.val:\n",
    "                        self.neighbours.append(neighbour)\n",
    "                        self.sides -= 1\n",
    "\n",
    "class Farm:\n",
    "    def __init__(self, _id):\n",
    "        self.id = _id\n",
    "        self.plot = []\n",
    "        self.area = 0\n",
    "        self.perimeter = 0\n",
    "        self.price = 0\n",
    "\n",
    "    def __repr__(self):\n",
    "        return str(self.id)\n",
    "\n",
    "    def Calc(self):\n",
    "        if not self.price:\n",
    "            self.area = len(self.plot)\n",
    "            cnt = 0\n",
    "            for plot in self.plot:\n",
    "                cnt += plot.sides\n",
    "            self.perimeter = cnt\n",
    "            self.price = self.area * self.perimeter\n",
    "        \n",
    "def DFS_FindRatings(graph, node):\n",
    "    cnt = 0\n",
    "    S, discovered = [], []\n",
    "    S.append(node)\n",
    "    while S:\n",
    "        v = S.pop(-1)\n",
    "        if v not in discovered:\n",
    "            discovered.append(v)\n",
    "            \n",
    "            if v.isAvailable:\n",
    "                for neighbour in v.neighbours:\n",
    "                    S.append(neighbour)\n",
    "                v.isAvailable = False\n",
    "                \n",
    "    return discovered"
   ]
  },
  {
   "cell_type": "markdown",
   "id": "347544fe-2508-4138-be9d-2014e5994cf0",
   "metadata": {},
   "source": [
    "### Part 1"
   ]
  },
  {
   "cell_type": "code",
   "execution_count": 7,
   "id": "6659e370-45e1-472c-9a26-9dd31a25492d",
   "metadata": {},
   "outputs": [],
   "source": [
    "# Create tiles and populate grid\n",
    "for i,row in enumerate(grid):\n",
    "    for j,col in enumerate(row):\n",
    "        grid[i,j] = Tile(i, j, temp_grid[i,j])"
   ]
  },
  {
   "cell_type": "code",
   "execution_count": 8,
   "id": "b3ffdad4-6dbd-49ee-b6b4-caf5f88e48c7",
   "metadata": {},
   "outputs": [],
   "source": [
    "# Find neighbouring nodes for each plot (gridpoint)\n",
    "for i,row in enumerate(grid):\n",
    "    for j,col in enumerate(row):\n",
    "        if grid[i,j].val in string.ascii_uppercase:\n",
    "            grid[i,j].FindValidNeighbours(grid)"
   ]
  },
  {
   "cell_type": "code",
   "execution_count": 9,
   "id": "dd2bbc53-51c4-45ee-b384-01f1201e6001",
   "metadata": {},
   "outputs": [
    {
     "data": {
      "text/plain": [
       "1375574"
      ]
     },
     "execution_count": 9,
     "metadata": {},
     "output_type": "execute_result"
    }
   ],
   "source": [
    "# A farm is a collection of plots (farm = polygon, plot = vertex)\n",
    "farms = []\n",
    "for i,row in enumerate(grid):\n",
    "    for j,col in enumerate(row):\n",
    "        if grid[i,j].val in string.ascii_uppercase and grid[i,j].isAvailable:\n",
    "            plot = DFS_FindRatings(grid, grid[i,j])\n",
    "            farm = Farm(grid[i,j].val)\n",
    "            farm.plot = plot\n",
    "            farms.append(farm)\n",
    "\n",
    "cnt = 0\n",
    "for farm in farms:\n",
    "    farm.Calc()\n",
    "    cnt += farm.price\n",
    "cnt"
   ]
  },
  {
   "attachments": {},
   "cell_type": "markdown",
   "id": "edb35ac9-eac8-4759-a540-091f34c645a2",
   "metadata": {},
   "source": [
    "### Part 2"
   ]
  },
  {
   "cell_type": "code",
   "execution_count": 11,
   "id": "90a8104d-93e7-46f6-a95c-05bbd6de99e2",
   "metadata": {},
   "outputs": [
    {
     "data": {
      "text/plain": [
       "830566"
      ]
     },
     "execution_count": 11,
     "metadata": {},
     "output_type": "execute_result"
    }
   ],
   "source": [
    "cnt = []\n",
    "for f in farms:\n",
    "    farm = f.plot\n",
    "    corner = 0\n",
    "    for plot in farm:\n",
    "        N = len(plot.neighbours)\n",
    "        \n",
    "        if N == 0:\n",
    "            corner += 4\n",
    "            \n",
    "        elif N == 1:\n",
    "            corner += 2\n",
    "                    \n",
    "        elif N >= 2:\n",
    "            for c1i in range(N-1):\n",
    "                for c2i in range(c1i+1, N):\n",
    "                    c1 = np.array([plot.neighbours[c1i].x, plot.neighbours[c1i].y])\n",
    "                    c2 = np.array([plot.neighbours[c2i].x, plot.neighbours[c2i].y])\n",
    "                    if (c1 - c2)[0] != 0 and (c1 - c2)[1] != 0:\n",
    "                        dx,dy = c1 + c2 - 2*np.array([plot.x,plot.y]) \n",
    "                        if N == 2:\n",
    "                            corner += 1\n",
    "                        if grid[plot.x+dx, plot.y+dy] not in farm:\n",
    "                            corner += 1\n",
    "    cnt.append(corner*len(farm))\n",
    "sum(cnt)"
   ]
  },
  {
   "cell_type": "code",
   "execution_count": null,
   "id": "3d46c763-ba47-4c4f-ad93-a2d95a9c8890",
   "metadata": {},
   "outputs": [],
   "source": []
  }
 ],
 "metadata": {
  "kernelspec": {
   "display_name": "Python 3 (ipykernel)",
   "language": "python",
   "name": "python3"
  },
  "language_info": {
   "codemirror_mode": {
    "name": "ipython",
    "version": 3
   },
   "file_extension": ".py",
   "mimetype": "text/x-python",
   "name": "python",
   "nbconvert_exporter": "python",
   "pygments_lexer": "ipython3",
   "version": "3.10.14"
  }
 },
 "nbformat": 4,
 "nbformat_minor": 5
}
